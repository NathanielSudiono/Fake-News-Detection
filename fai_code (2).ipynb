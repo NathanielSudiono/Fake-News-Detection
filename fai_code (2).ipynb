{
  "nbformat": 4,
  "nbformat_minor": 0,
  "metadata": {
    "colab": {
      "provenance": []
    },
    "kernelspec": {
      "name": "python3",
      "display_name": "Python 3"
    },
    "language_info": {
      "name": "python"
    }
  },
  "cells": [
    {
      "cell_type": "code",
      "execution_count": null,
      "metadata": {
        "id": "UnZZn2l2rg_5"
      },
      "outputs": [],
      "source": [
        "## 1. Importing Libraries\n",
        "import pandas as pd\n",
        "import seaborn as sns\n",
        "import matplotlib.pyplot as plt"
      ]
    },
    {
      "cell_type": "markdown",
      "source": [
        "# Data acquisition"
      ],
      "metadata": {
        "id": "yBzzGj4l3Oim"
      }
    },
    {
      "cell_type": "code",
      "source": [
        "df = pd.read_csv('news_articles.csv')\n",
        "df.head()\n"
      ],
      "metadata": {
        "colab": {
          "base_uri": "https://localhost:8080/",
          "height": 660
        },
        "id": "vnBrMKXersvN",
        "outputId": "d7fcdf8a-7ce5-44aa-e687-ad30f3461395"
      },
      "execution_count": null,
      "outputs": [
        {
          "output_type": "execute_result",
          "data": {
            "text/plain": [
              "                 author                      published  \\\n",
              "0     Barracuda Brigade  2016-10-26T21:41:00.000+03:00   \n",
              "1  reasoning with facts  2016-10-29T08:47:11.259+03:00   \n",
              "2     Barracuda Brigade  2016-10-31T01:41:49.479+02:00   \n",
              "3                Fed Up  2016-11-01T05:22:00.000+02:00   \n",
              "4                Fed Up  2016-11-01T21:56:00.000+02:00   \n",
              "\n",
              "                                               title  \\\n",
              "0  muslims busted they stole millions in govt ben...   \n",
              "1  re why did attorney general loretta lynch plea...   \n",
              "2  breaking weiner cooperating with fbi on hillar...   \n",
              "3  pin drop speech by father of daughter kidnappe...   \n",
              "4  fantastic trumps  point plan to reform healthc...   \n",
              "\n",
              "                                                text language  \\\n",
              "0  print they should pay all the back all the mon...  english   \n",
              "1  why did attorney general loretta lynch plead t...  english   \n",
              "2  red state  \\nfox news sunday reported this mor...  english   \n",
              "3  email kayla mueller was a prisoner and torture...  english   \n",
              "4  email healthcare reform to make america great ...  english   \n",
              "\n",
              "              site_url                                       main_img_url  \\\n",
              "0  100percentfedup.com  http://bb4sp.com/wp-content/uploads/2016/10/Fu...   \n",
              "1  100percentfedup.com  http://bb4sp.com/wp-content/uploads/2016/10/Fu...   \n",
              "2  100percentfedup.com  http://bb4sp.com/wp-content/uploads/2016/10/Fu...   \n",
              "3  100percentfedup.com  http://100percentfedup.com/wp-content/uploads/...   \n",
              "4  100percentfedup.com  http://100percentfedup.com/wp-content/uploads/...   \n",
              "\n",
              "   type label                            title_without_stopwords  \\\n",
              "0  bias  Real        muslims busted stole millions govt benefits   \n",
              "1  bias  Real         attorney general loretta lynch plead fifth   \n",
              "2  bias  Real  breaking weiner cooperating fbi hillary email ...   \n",
              "3  bias  Real  pin drop speech father daughter kidnapped kill...   \n",
              "4  bias  Real  fantastic trumps point plan reform healthcare ...   \n",
              "\n",
              "                              text_without_stopwords  hasImage  \n",
              "0  print pay back money plus interest entire fami...       1.0  \n",
              "1  attorney general loretta lynch plead fifth bar...       1.0  \n",
              "2  red state fox news sunday reported morning ant...       1.0  \n",
              "3  email kayla mueller prisoner tortured isis cha...       1.0  \n",
              "4  email healthcare reform make america great sin...       1.0  "
            ],
            "text/html": [
              "\n",
              "  <div id=\"df-51552bee-69ef-4af2-b56c-903738d90bac\" class=\"colab-df-container\">\n",
              "    <div>\n",
              "<style scoped>\n",
              "    .dataframe tbody tr th:only-of-type {\n",
              "        vertical-align: middle;\n",
              "    }\n",
              "\n",
              "    .dataframe tbody tr th {\n",
              "        vertical-align: top;\n",
              "    }\n",
              "\n",
              "    .dataframe thead th {\n",
              "        text-align: right;\n",
              "    }\n",
              "</style>\n",
              "<table border=\"1\" class=\"dataframe\">\n",
              "  <thead>\n",
              "    <tr style=\"text-align: right;\">\n",
              "      <th></th>\n",
              "      <th>author</th>\n",
              "      <th>published</th>\n",
              "      <th>title</th>\n",
              "      <th>text</th>\n",
              "      <th>language</th>\n",
              "      <th>site_url</th>\n",
              "      <th>main_img_url</th>\n",
              "      <th>type</th>\n",
              "      <th>label</th>\n",
              "      <th>title_without_stopwords</th>\n",
              "      <th>text_without_stopwords</th>\n",
              "      <th>hasImage</th>\n",
              "    </tr>\n",
              "  </thead>\n",
              "  <tbody>\n",
              "    <tr>\n",
              "      <th>0</th>\n",
              "      <td>Barracuda Brigade</td>\n",
              "      <td>2016-10-26T21:41:00.000+03:00</td>\n",
              "      <td>muslims busted they stole millions in govt ben...</td>\n",
              "      <td>print they should pay all the back all the mon...</td>\n",
              "      <td>english</td>\n",
              "      <td>100percentfedup.com</td>\n",
              "      <td>http://bb4sp.com/wp-content/uploads/2016/10/Fu...</td>\n",
              "      <td>bias</td>\n",
              "      <td>Real</td>\n",
              "      <td>muslims busted stole millions govt benefits</td>\n",
              "      <td>print pay back money plus interest entire fami...</td>\n",
              "      <td>1.0</td>\n",
              "    </tr>\n",
              "    <tr>\n",
              "      <th>1</th>\n",
              "      <td>reasoning with facts</td>\n",
              "      <td>2016-10-29T08:47:11.259+03:00</td>\n",
              "      <td>re why did attorney general loretta lynch plea...</td>\n",
              "      <td>why did attorney general loretta lynch plead t...</td>\n",
              "      <td>english</td>\n",
              "      <td>100percentfedup.com</td>\n",
              "      <td>http://bb4sp.com/wp-content/uploads/2016/10/Fu...</td>\n",
              "      <td>bias</td>\n",
              "      <td>Real</td>\n",
              "      <td>attorney general loretta lynch plead fifth</td>\n",
              "      <td>attorney general loretta lynch plead fifth bar...</td>\n",
              "      <td>1.0</td>\n",
              "    </tr>\n",
              "    <tr>\n",
              "      <th>2</th>\n",
              "      <td>Barracuda Brigade</td>\n",
              "      <td>2016-10-31T01:41:49.479+02:00</td>\n",
              "      <td>breaking weiner cooperating with fbi on hillar...</td>\n",
              "      <td>red state  \\nfox news sunday reported this mor...</td>\n",
              "      <td>english</td>\n",
              "      <td>100percentfedup.com</td>\n",
              "      <td>http://bb4sp.com/wp-content/uploads/2016/10/Fu...</td>\n",
              "      <td>bias</td>\n",
              "      <td>Real</td>\n",
              "      <td>breaking weiner cooperating fbi hillary email ...</td>\n",
              "      <td>red state fox news sunday reported morning ant...</td>\n",
              "      <td>1.0</td>\n",
              "    </tr>\n",
              "    <tr>\n",
              "      <th>3</th>\n",
              "      <td>Fed Up</td>\n",
              "      <td>2016-11-01T05:22:00.000+02:00</td>\n",
              "      <td>pin drop speech by father of daughter kidnappe...</td>\n",
              "      <td>email kayla mueller was a prisoner and torture...</td>\n",
              "      <td>english</td>\n",
              "      <td>100percentfedup.com</td>\n",
              "      <td>http://100percentfedup.com/wp-content/uploads/...</td>\n",
              "      <td>bias</td>\n",
              "      <td>Real</td>\n",
              "      <td>pin drop speech father daughter kidnapped kill...</td>\n",
              "      <td>email kayla mueller prisoner tortured isis cha...</td>\n",
              "      <td>1.0</td>\n",
              "    </tr>\n",
              "    <tr>\n",
              "      <th>4</th>\n",
              "      <td>Fed Up</td>\n",
              "      <td>2016-11-01T21:56:00.000+02:00</td>\n",
              "      <td>fantastic trumps  point plan to reform healthc...</td>\n",
              "      <td>email healthcare reform to make america great ...</td>\n",
              "      <td>english</td>\n",
              "      <td>100percentfedup.com</td>\n",
              "      <td>http://100percentfedup.com/wp-content/uploads/...</td>\n",
              "      <td>bias</td>\n",
              "      <td>Real</td>\n",
              "      <td>fantastic trumps point plan reform healthcare ...</td>\n",
              "      <td>email healthcare reform make america great sin...</td>\n",
              "      <td>1.0</td>\n",
              "    </tr>\n",
              "  </tbody>\n",
              "</table>\n",
              "</div>\n",
              "    <div class=\"colab-df-buttons\">\n",
              "\n",
              "  <div class=\"colab-df-container\">\n",
              "    <button class=\"colab-df-convert\" onclick=\"convertToInteractive('df-51552bee-69ef-4af2-b56c-903738d90bac')\"\n",
              "            title=\"Convert this dataframe to an interactive table.\"\n",
              "            style=\"display:none;\">\n",
              "\n",
              "  <svg xmlns=\"http://www.w3.org/2000/svg\" height=\"24px\" viewBox=\"0 -960 960 960\">\n",
              "    <path d=\"M120-120v-720h720v720H120Zm60-500h600v-160H180v160Zm220 220h160v-160H400v160Zm0 220h160v-160H400v160ZM180-400h160v-160H180v160Zm440 0h160v-160H620v160ZM180-180h160v-160H180v160Zm440 0h160v-160H620v160Z\"/>\n",
              "  </svg>\n",
              "    </button>\n",
              "\n",
              "  <style>\n",
              "    .colab-df-container {\n",
              "      display:flex;\n",
              "      gap: 12px;\n",
              "    }\n",
              "\n",
              "    .colab-df-convert {\n",
              "      background-color: #E8F0FE;\n",
              "      border: none;\n",
              "      border-radius: 50%;\n",
              "      cursor: pointer;\n",
              "      display: none;\n",
              "      fill: #1967D2;\n",
              "      height: 32px;\n",
              "      padding: 0 0 0 0;\n",
              "      width: 32px;\n",
              "    }\n",
              "\n",
              "    .colab-df-convert:hover {\n",
              "      background-color: #E2EBFA;\n",
              "      box-shadow: 0px 1px 2px rgba(60, 64, 67, 0.3), 0px 1px 3px 1px rgba(60, 64, 67, 0.15);\n",
              "      fill: #174EA6;\n",
              "    }\n",
              "\n",
              "    .colab-df-buttons div {\n",
              "      margin-bottom: 4px;\n",
              "    }\n",
              "\n",
              "    [theme=dark] .colab-df-convert {\n",
              "      background-color: #3B4455;\n",
              "      fill: #D2E3FC;\n",
              "    }\n",
              "\n",
              "    [theme=dark] .colab-df-convert:hover {\n",
              "      background-color: #434B5C;\n",
              "      box-shadow: 0px 1px 3px 1px rgba(0, 0, 0, 0.15);\n",
              "      filter: drop-shadow(0px 1px 2px rgba(0, 0, 0, 0.3));\n",
              "      fill: #FFFFFF;\n",
              "    }\n",
              "  </style>\n",
              "\n",
              "    <script>\n",
              "      const buttonEl =\n",
              "        document.querySelector('#df-51552bee-69ef-4af2-b56c-903738d90bac button.colab-df-convert');\n",
              "      buttonEl.style.display =\n",
              "        google.colab.kernel.accessAllowed ? 'block' : 'none';\n",
              "\n",
              "      async function convertToInteractive(key) {\n",
              "        const element = document.querySelector('#df-51552bee-69ef-4af2-b56c-903738d90bac');\n",
              "        const dataTable =\n",
              "          await google.colab.kernel.invokeFunction('convertToInteractive',\n",
              "                                                    [key], {});\n",
              "        if (!dataTable) return;\n",
              "\n",
              "        const docLinkHtml = 'Like what you see? Visit the ' +\n",
              "          '<a target=\"_blank\" href=https://colab.research.google.com/notebooks/data_table.ipynb>data table notebook</a>'\n",
              "          + ' to learn more about interactive tables.';\n",
              "        element.innerHTML = '';\n",
              "        dataTable['output_type'] = 'display_data';\n",
              "        await google.colab.output.renderOutput(dataTable, element);\n",
              "        const docLink = document.createElement('div');\n",
              "        docLink.innerHTML = docLinkHtml;\n",
              "        element.appendChild(docLink);\n",
              "      }\n",
              "    </script>\n",
              "  </div>\n",
              "\n",
              "\n",
              "<div id=\"df-963496d8-5b6c-4eff-988c-afbb8aa97369\">\n",
              "  <button class=\"colab-df-quickchart\" onclick=\"quickchart('df-963496d8-5b6c-4eff-988c-afbb8aa97369')\"\n",
              "            title=\"Suggest charts\"\n",
              "            style=\"display:none;\">\n",
              "\n",
              "<svg xmlns=\"http://www.w3.org/2000/svg\" height=\"24px\"viewBox=\"0 0 24 24\"\n",
              "     width=\"24px\">\n",
              "    <g>\n",
              "        <path d=\"M19 3H5c-1.1 0-2 .9-2 2v14c0 1.1.9 2 2 2h14c1.1 0 2-.9 2-2V5c0-1.1-.9-2-2-2zM9 17H7v-7h2v7zm4 0h-2V7h2v10zm4 0h-2v-4h2v4z\"/>\n",
              "    </g>\n",
              "</svg>\n",
              "  </button>\n",
              "\n",
              "<style>\n",
              "  .colab-df-quickchart {\n",
              "      --bg-color: #E8F0FE;\n",
              "      --fill-color: #1967D2;\n",
              "      --hover-bg-color: #E2EBFA;\n",
              "      --hover-fill-color: #174EA6;\n",
              "      --disabled-fill-color: #AAA;\n",
              "      --disabled-bg-color: #DDD;\n",
              "  }\n",
              "\n",
              "  [theme=dark] .colab-df-quickchart {\n",
              "      --bg-color: #3B4455;\n",
              "      --fill-color: #D2E3FC;\n",
              "      --hover-bg-color: #434B5C;\n",
              "      --hover-fill-color: #FFFFFF;\n",
              "      --disabled-bg-color: #3B4455;\n",
              "      --disabled-fill-color: #666;\n",
              "  }\n",
              "\n",
              "  .colab-df-quickchart {\n",
              "    background-color: var(--bg-color);\n",
              "    border: none;\n",
              "    border-radius: 50%;\n",
              "    cursor: pointer;\n",
              "    display: none;\n",
              "    fill: var(--fill-color);\n",
              "    height: 32px;\n",
              "    padding: 0;\n",
              "    width: 32px;\n",
              "  }\n",
              "\n",
              "  .colab-df-quickchart:hover {\n",
              "    background-color: var(--hover-bg-color);\n",
              "    box-shadow: 0 1px 2px rgba(60, 64, 67, 0.3), 0 1px 3px 1px rgba(60, 64, 67, 0.15);\n",
              "    fill: var(--button-hover-fill-color);\n",
              "  }\n",
              "\n",
              "  .colab-df-quickchart-complete:disabled,\n",
              "  .colab-df-quickchart-complete:disabled:hover {\n",
              "    background-color: var(--disabled-bg-color);\n",
              "    fill: var(--disabled-fill-color);\n",
              "    box-shadow: none;\n",
              "  }\n",
              "\n",
              "  .colab-df-spinner {\n",
              "    border: 2px solid var(--fill-color);\n",
              "    border-color: transparent;\n",
              "    border-bottom-color: var(--fill-color);\n",
              "    animation:\n",
              "      spin 1s steps(1) infinite;\n",
              "  }\n",
              "\n",
              "  @keyframes spin {\n",
              "    0% {\n",
              "      border-color: transparent;\n",
              "      border-bottom-color: var(--fill-color);\n",
              "      border-left-color: var(--fill-color);\n",
              "    }\n",
              "    20% {\n",
              "      border-color: transparent;\n",
              "      border-left-color: var(--fill-color);\n",
              "      border-top-color: var(--fill-color);\n",
              "    }\n",
              "    30% {\n",
              "      border-color: transparent;\n",
              "      border-left-color: var(--fill-color);\n",
              "      border-top-color: var(--fill-color);\n",
              "      border-right-color: var(--fill-color);\n",
              "    }\n",
              "    40% {\n",
              "      border-color: transparent;\n",
              "      border-right-color: var(--fill-color);\n",
              "      border-top-color: var(--fill-color);\n",
              "    }\n",
              "    60% {\n",
              "      border-color: transparent;\n",
              "      border-right-color: var(--fill-color);\n",
              "    }\n",
              "    80% {\n",
              "      border-color: transparent;\n",
              "      border-right-color: var(--fill-color);\n",
              "      border-bottom-color: var(--fill-color);\n",
              "    }\n",
              "    90% {\n",
              "      border-color: transparent;\n",
              "      border-bottom-color: var(--fill-color);\n",
              "    }\n",
              "  }\n",
              "</style>\n",
              "\n",
              "  <script>\n",
              "    async function quickchart(key) {\n",
              "      const quickchartButtonEl =\n",
              "        document.querySelector('#' + key + ' button');\n",
              "      quickchartButtonEl.disabled = true;  // To prevent multiple clicks.\n",
              "      quickchartButtonEl.classList.add('colab-df-spinner');\n",
              "      try {\n",
              "        const charts = await google.colab.kernel.invokeFunction(\n",
              "            'suggestCharts', [key], {});\n",
              "      } catch (error) {\n",
              "        console.error('Error during call to suggestCharts:', error);\n",
              "      }\n",
              "      quickchartButtonEl.classList.remove('colab-df-spinner');\n",
              "      quickchartButtonEl.classList.add('colab-df-quickchart-complete');\n",
              "    }\n",
              "    (() => {\n",
              "      let quickchartButtonEl =\n",
              "        document.querySelector('#df-963496d8-5b6c-4eff-988c-afbb8aa97369 button');\n",
              "      quickchartButtonEl.style.display =\n",
              "        google.colab.kernel.accessAllowed ? 'block' : 'none';\n",
              "    })();\n",
              "  </script>\n",
              "</div>\n",
              "\n",
              "    </div>\n",
              "  </div>\n"
            ],
            "application/vnd.google.colaboratory.intrinsic+json": {
              "type": "dataframe",
              "variable_name": "df",
              "summary": "{\n  \"name\": \"df\",\n  \"rows\": 2096,\n  \"fields\": [\n    {\n      \"column\": \"author\",\n      \"properties\": {\n        \"dtype\": \"category\",\n        \"num_unique_values\": 491,\n        \"samples\": [\n          \"Carole Roscitto\",\n          \"Paul Craig Roberts\",\n          \"Shelby Kellin\"\n        ],\n        \"semantic_type\": \"\",\n        \"description\": \"\"\n      }\n    },\n    {\n      \"column\": \"published\",\n      \"properties\": {\n        \"dtype\": \"string\",\n        \"num_unique_values\": 2006,\n        \"samples\": [\n          \"2016-10-26T22:46:15.945+03:00\",\n          \"2016-10-27T01:45:00.000+03:00\",\n          \"2016-11-02T18:22:24.792+02:00\"\n        ],\n        \"semantic_type\": \"\",\n        \"description\": \"\"\n      }\n    },\n    {\n      \"column\": \"title\",\n      \"properties\": {\n        \"dtype\": \"string\",\n        \"num_unique_values\": 1784,\n        \"samples\": [\n          \"presstvrussian warships flotilla off syrian coast\",\n          \"hillary responds to creepy joe biden caught groping dozens of young women\",\n          \"trump kills the gop with the lowest score in history of presidential leadership poll\"\n        ],\n        \"semantic_type\": \"\",\n        \"description\": \"\"\n      }\n    },\n    {\n      \"column\": \"text\",\n      \"properties\": {\n        \"dtype\": \"string\",\n        \"num_unique_values\": 1941,\n        \"samples\": [\n          \"a subject not often discussed is the topic of how to repair strained or broken relationships it is one that comes up in everyones life so it will be useful to make a few suggestions about it here we will talk about relationships from friends family and lovers\\nrelationships among friends we will treat first the first step in this process is to make an evaluation to determine whether the relationship is worth saving or rehabilitating it is a simple fact of life that some relationships have an expiration date when two people no longer have anything in common or their paths take them in divergent directions it may be difficult to find common ground in this situation it is always better to let the relationship die a natural death slowly rather than rapidly abrupt terminations may leave the other party with negative feelings and this should be avoided if at all possible\\nthere are some instances where repair is not possible when someone has committed a fundamental violation of trust or respect this is a warning sign that the person was never a friend in the first place another point to keep in mind is that repair of a broken relationship requiresno demandsthe participation of both parties if the other person is unwilling to participate in the process then your efforts will be futile and will come to nothing\\n\\nonce we have determined that the friendship is worth repairing or sustaining the next step is to decide how to make the first approach to the other party in this we must try to evaluate the reasons for the problems in the first place we should make an honest assessment about how things got to where they are did someone say or do something that caused hard feelings on the other side was there some intervening cause that made the two parties diverge in plans and activities these types of questions must be honestly and repeatedly asked we have a tendency to minimize our own hurtful actions and exaggerate those of others and this must be kept in mind\\nthe key rule at this point is to try to put ourselves in the shoes of the other party we must try to see things from our friends perspective for many people this can be difficult as it involves getting past our own feelings of hurt or rejection and into the shoes of the other person and yet it is essential very frequently the reasons for strained or broken friendships lies in the fact that there is some problem going on in the other persons life only by being a perceptive student of human nature can we divine the cause sometimes the only thing that caused the strained relationship was some misunderstanding that was easily curable\\nkeep in mind that we must tryat least in our own mindsto discover the source of the other persons problem this is not always possible as human beings are not always rational but we can at least make the effort i remember in the film hoffa that there was a great line from jack nicholson he told one of his men real problems real grievances can be resolved they can be negotiated but imaginary grievances that man is going to hate you for life i have no idea if jimmy hoffa every actually said this but it sounds like something he would have said he meant that we should avoid hurting the pride of our friends we should be acutely aware how it is sometimes the intangible slights that can most rankle with a man\\nwhen you have decided to make the first step it is always better to initiate contact directly do not wait for the other person to do it depending on the circumstances this should be done discreetly and without too much in the way of overpowering insistence there is a certain type of finesse that a man should have at critical times and this is one of them the approach should be direct but neither insistent nor demanding a fish is best hooked with a lure gently laid\\nof vital importance here is that the approach be sincere one should genuinely want to contact the other party sincerity is the glue that binds friendships together and permits their longevity there should be no hypocrisy or falsity in any of our dealings with friends this kind of thing is immediately apparent and once detected its whiff surrounds the offending party like a permanent cloud if the other party is receptive to the approach we can then gradually feel our way forward taking care to avoid the reasons why the friendship became strained in the first place things may never quite go back to what they were but at least we can find solid ground for a new frame of reference\\ntwo examples will suffice here the historian william shirer worked closely with famed correspondent edward r murrow when the two were in germany in the s yet after the war was over the two grew apart shirers account of the estrangement suggests that he was repelled by murrows enthusiastic adoption of the anticommunist hysteria of the time shirer found himself gradually blackballed from most major news networks before being forced out completely he broke with murrow over these events many decades later he approached murrow all venom spent the two were able to find common ground again\\n\\nanother example makes the same point theodore roosevelt was a strongwilled insistent man to say the least he was in a position to choose his successor as president and to this end he selected a man very different from him the affable and rotund william howard taft taft eventually began to find roosevelt an overbearing and unwelcome presence in his life the two men eventually broke completely a result of their personality differences and different conceptions of leadership to his credit roosevelt eventually approached his old friend privately to patch things up they were never the same of course but at least some cordiality was restored\\nrelationships with family are of a fundamentally different sort because we are linked by bonds of blood or perhaps marriage it will be more difficult to disentangle ourselves from those with whom we have become estranged on the other hand it may be easier to repair such grievances or at least find common ground since there may be more shared experiences with the other party that act in our favor the key here is not to expect too much although shared history and common blood may work in our favor they can be counterbalanced to some extent by the fact that irrational family antagonisms can run deeper than those from strained friendships patience and persistence are most important here perhaps more so than friendships with those unrelated to us\\n\\nrepairing strained relationships with lovers is perhaps the most difficult when a man and woman have been united in the past through the coital act an entirely different set of emotions and motivations come into play relationships between lovers can fail or become strained for an infinite number of reasons and it would be impossible to discuss all of them here it is enough for me to state my opinion that it is nearly impossible to bring an intimate sexual relationship back to what it was after it has been broken\\nstrained is one thing broken is quite another my own experience leads me to believe that once a sexual relationship is done it is done one cannot really go back to what it was before amicable dealings are certainly possible and happen all the time but i would not call this friendship i would call it an uneasy equilibrium loves inflammatory presence scorches all it leaves in its wake\\nread more   proven ways to stop obsessive thoughts\",\n          \"louder with crowder october   \\nsamantha bee is proof positive that being funny clever or photogenic are no longer requirements in leftist media i guess we can call that progress problem is whatever the size of bees audience there is still an audience which she lied to par for the course in leftist circles but this one needs a rebuttal samantha bee said partial birth abortion is not a thing while she ranted and raved at donald trump for his comments in the final debate  sorry sammy partial birth abortion is sadly a thing \\nheres what i find interesting bees need to explain away partial birth abortion shows just how unpopular the procedure is shes trying to get rid of it not unlike a woman hoping to chop shop her unborn baby  of course she stops short of saying its a heinous evil thing for people to do to their own children by excusing the sick evil twisted women and the doctors who perform the butchery who make it happen sorry there is no reason to suck the brains out of a partially born baby for the health of the mother or if the baby has a terminal disease \\nabortion is always wrong like always \\nbecause chopping up a baby while its partially hanging out of the mother its head still in the birth canal because its going to die anyway makes sense if you agree with killing a baby like this for any reason youre sick probably a little bit evil read dear evil women who abort their babies yep that was written for you abortion supporters not sorry you might also like dear liberal women no getting an abortion is not brave this article was posted wednesday october   at  am share this article\",\n          \"united states marine field mcconnell  plum city online   abeldangernet   october   \\n abel danger  ad  claims that serco relayed zulu timing signals to mentors of the federal bridge certification authority in support of live webcast of torture killings in the mumbai attacks of november  and bc pig farm raves  \\n\\n ad claims that serco used an a prot\\u00e9g\\u00e9 company  base one technologies  to blackmail hillary clinton into outsourcing the operation of the us patent and trademark office to users of the federal bridge and equipping selected users with patented webcast servers for zulu betting on the times of victims deaths \\n\\n ad claims that in  serco operatives at the national visa center began equipping hillary clinton and michelle obama  a former sidley austin intellectual property ip lawyer and a prot\\u00e9g\\u00e9e of terrorist bernardine dohrn  with a longrange visa service for the bc pig farm and mumbai snufffilm crews \\n\\n united states marine field mcconnell  global operations director of abel danger  has offered to serve as a fivestar general in a future trump administration so he can first recognize and then destroy sercos zulu bridge to clinton patents and obama snufffilm crews \\n\\nmumbai terror attack watch nsg successful in mission against mumbai attackers   \\nmedia coverage of starnet raid  august       \\n\\nhillary clinton vs james comey email scandal supercut  \\ncopy of serco group plc list of subsidiaries and shareholders note british and saudi governments axa hsbc  teachers and gold man sachs    \\ndefense ammunition center outsourced to serco    \\nserco  would you like to know more  \\n\\ndigital fires instructor serco  camp pendleton ca uses information derived from all military disciplines eg aviation ground combat command and control combat service support intelligence and opposing forces to determine changes in enemy capabilities vulnerabilities and probable courses of action \\n\\nthe  mumbai bombay attacks were a series of attacks that took place in november  when  members of lashkaretaiba  an islamic militant organisation based in pakistan  carried out a series of  coordinated shooting and bombing attacks lasting four days across mumbai  the attacks which drew widespread global condemnation began on wednesday  november and lasted until saturday  november  killing  people and wounding at least    \\n\\neight of the attacks occurred in south mumbai at chhatrapati shivaji terminus  the oberoi trident the taj mahal palace  tower  leopold cafe cama hospital the nariman house jewish community centre the metro cinema and in a lane behind the times of india building and st xaviers college  there was also an explosion at mazagaon in mumbais port area and in a taxi at vile parle  by the early morning of  november all sites except for the taj hotel had been secured by mumbai police and security forces on  november indias national security guards nsg conducted operation black tornado to flush out the remaining attackers it culminated in the death of the last remaining attackers at the taj hotel and ending the attacks ajmal kasab disclosed that the attackers were members of lashkaretaiba among others the government of india said that the attackers came from pakistan and their controllers were in pakistan on  january  pakistan confirmed the sole surviving perpetrator of the attacks was a pakistani citizen on  april  the foremost ringleader of the attacks zakiur rehman lakhvi  was granted bail against surety bonds of  us in pakistan \\n\\nthe case of the vanishing visa files  \\ndecember    pm pst  \\nby chuck goudie   \\ndecember   chicago  potentially important evidence has disappeared in a terrorism case involving two chicago men their visa records vanished from chicagos indian consulate it comes one week after the abc  iteam raised questions about how david coleman headley and tahawwur rana obtained their foreign visas in the first place \\n\\nthe case of the vanishing visa records has churned up diplomats from mumbai to michigan avenue indias foreign secretary nirupama rao told reporters overseas wednesday that she wants answers from chicagos indian consulate about the records and visa documents that have disappeared records that might show how two accused chicago terrorists obtained permission to scout targets in india \\n\\ntop officials of chicagos india consulate wouldnt talk to the iteam on camera last week when asked how terror suspects david coleman headley and tahawwur rana obtained fiveyear unlimited passage visas to india \\n\\nand the consul general did not return calls wednesday regarding the paperwork they used to process headley and ranas visas which indian foreign secretary nirupama rao announced wednesday have disappeared \\n\\nwednesday evening the chicago consul general emailed a statement to the iteam that conflicted with government statements made in india the brief statement read we have not reported loss of any papers regarding issuance of visa to david coleman headley and tahawwur rana hussain relevant information concerning the issuance of visa to these persons is available with the government of india \\n\\nindias counterpart to the fbi is looking into the visa application process as part of its probe into the  mumbai massacre \\n\\nthe two chicago suspects are accused of having roles in the assault rana was denied bond by a chicago district judge tuesday despite family members and friends offering  million in cash and property rana has not been directly charged with the mumbai attack that left  dead but was linked to the assault in government court filings \\n\\nheadley a pakistanborn chicagoan is a convicted heroin dealer whose birth name was daood giliani he changed his name to ease travel to india according to federal prosecutors in chicago and to avoid the required previsa background check by indian authorities \\n\\nsince the time headley and rani were processed indias chicago consulate office began contracting out visa requests to a private company called travisa outsourcing that on its website claims we have revolutionized the way people get their visas \\n\\nand the new visa processing was subject of a news conference last year \\n\\nthe advantages of outsourcing is the travisa company which is handling the outsourcing has set up a call center said ashok kumar attri consul general \\n\\nforeign secretary rao said she is impressed with the cooperation the us has given to indian investigators headley and rana are not due back in court until january \\n\\nwas bernardine dohrn the mentor of michelle obama at sidley austin  \\napril    \\nbernardine dohrn was at sidley austin a law firm in chicago from from  to  dohrn was employed by the law firm sidley austin although her criminal record has prevented her from being admitted to either the new york or illinois bar httpenwikipediaorgwikibernardine_dohrn \\n\\nmichelle obama graduated from harvard law school in  but she likely also was a summer associate in  and likely  barack obama was assigned to her in  when he was a summer associate from harvard law school httpenwikipediaorgwikibarack_obama \\n\\nhe entered harvard law school in  more links and excerpts \\n\\nhttpsoldatlanticlighthousewordpresscomnorthwesternlawprofbernardinedohrnweatherunderground   \\n\\nsteve sailer on michelle obama \\nhttpwwwvdarecomsailer_michelle_obamahtm   \\n\\nmichelles princeton thesis \\nhttpblogvdarecomarchivesmichelleobamathesisfounddownloadithere   \\n\\njames fulford quotes politico \\n\\nmichelle obamas senior year thesis at princeton university obtained exclusively from the campaign by politico  shows a document written by a young woman grappling with a society in which a black princeton alumnus might only be allowed to remain on the periphery read the full thesis here part   part   part   part   michelle obama thesis was on racial divide  jeffrey ressner  politicocom \\n\\nsidley austin likely recognized this in michelle even if she didnt show them her princeton thesis who better at sidley austin to be mentor to the author of this princeton thesis than bernardine dohrn who had been number  on the fbi most wanted list \\n\\nbarack obama was assigned to michelle obama in summer  this may have reflected how few blacks there were at sidley austin especially from harvard law school or the equivalent dohrn got her jd from university of chicago law school since she is a prof at northwestern despite her background we might infer she was very smart and understanding so she was the perfect person to be the mentor for michelle obama at sidley austin \\n\\nthe above is speculation hypotheses or opinion all statements should be restated as questions all other disclaimers apply \\n\\nwebcasting is the distribution of media files through the internet the earliest webcast equivalent of an online concert and one of the earliest examples of webcasting itself was by apple computer s webcasting group in partnership with the entrepreneurs michael dorf and andrew rasiej  together with david b pakman from apple they launched the macintosh new york music festival from july   this event audio webcast concerts from more than  clubs in new york city apple later webcast a concert by metallica on june   live from slims in san francisco   \\n\\nin  benford e standley produced one of the first audiovideo webcasts in history on october   uk rock band caduseus broadcast their onehour concert from pm to am ut at celtica in machynlleth wales uk  the first live streamed audio and simultaneous live streamed video multicast  around the globe to more than twenty direct mirrors in more than twenty countries   \\n\\nserco processes  millionth patent application for us patent and trademark office date  mar  serco inc a leading provider of professional technology and management services to the federal government announced today that their pregrant publication pgpubs classification services team recently processed their  millionth patent application for the us patent  trademark office uspto each application was also processed within the contractually required day window \\n\\nbreaking hillaryclintons email server company got almost  million in govt loans after wiping emails   \\noctober    \\nby charles c johnson  comments  \\ngive it up already its over k j gillenwater was the primary researcher behind this story \\n\\nhillary clintons email server company got almost  million in government loans starting immediately after they were secretly asked to wipe hillary clintons name from her emails \\n\\nplatte river networks prn got a  loan from the small business administration in august  and another  loan in september  \\n\\npublic government data available as usaspendinggov \\n\\nthe first halfmillion dollar loan arrived not one month after prn employee paul combetta was caught accidentally revealing his company was deleting evidence at hillarys request in july   \\n\\nthe second  loan came about one year later \\n\\nyou wont hear this stuff from the lying mainstream media keep the gotnews mission alive donate at gotnewscomdonate or send tips to editorgotnewscom if youd like to join our research team contacteditorgotnewscom \\n\\nafter getting the first loan prn moved to a large office space after previously working out of the owners condo the head of the small business administration is maria contrerassweet  a mexican immigrant who was appointed to the office by barack obama two months before hillarys prn got the first loan \\n\\nwikileaks leaks have proven hillarys corrupt paytoplay scheme gotnews has shined a light on how hillary gets favors from hispanic and democratic government bureaucrats before  \\n\\ndid hillary clinton pay her email server company platte river networks prn with almost  million in favorable government loans  given out by a political friendly  in order to alter her illegal emails and get her name off them \\n\\nit sure looks like it \\n\\na freedom of information act foia request has been lodged for more information \\n\\nstay tuned for more \\n\\nk j gillenwater was the primary researcher behind this story  \\n\\npolice conclude search of starnet   \\ncbc news posted aug    am et last updated aug    am et  \\npolice have wrapped up several days of searching the offices of starnet communications in vancouver they entered the company offices and homes of some directors on friday \\n\\npolice were looking for evidence of illegal gambling distributing child pornography and money laundering since the raid starnet officials say police just dont understand their business \\n\\nthe search warrant details  months of police investigation it traces a network of companies registered in american and caribbean jurisdictions \\n\\nthe warrant also identifies vancouver as the centre of starnets operations even though this is a grey under canadian law \\n\\npolice note that starnets revenues grew dramatically in the past two years from betting and sex shows and from lucrative licensing agreements for its gaming software the investigations and pornography from company sites were grounds for fridays raid and seizure of company materials \\n\\nrcmp constable peter thiessen says investigators left starnet offices yesterday morning he says they spent the better part of three days going through the business and as a result of that search the investigation is continuing but no charges have been laid starnets many investors were spooked by the raid share prices dropped almost percent on friday however the company insists the raid had minimal effect on its operation stocks rose slightly yesterday after a day of very heavy trading \\n\\nin written statements company ceo mark dohlen said the wall street journal calls starnet the leader in internet gaming and entertainment he says companies like his those on the cutting edge are often misunderstood yesterday starnet announced it will sell off the sex side of its business it plans to focus more resources on gaming \\n\\nthe police investigation is expected to last for several more months \\n\\nsuper serco bulldozes ahead  \\nby daily mail reporter updated  gmt  september  \\nserco has come a long way since the s when it ran the fourminute warning system to alert the nation to a ballistic missile attack \\n\\ntoday its bn order book is bigger than many countries defence budgets it is bidding for a further bn worth of contracts and sees bn of opportunities \\n\\nprofit growth is less ballistic the firsthalf pretax surplus rose  to m net profits just  to m stripping out goodwill the rise was  with dividends up  to p \\n\\nserco runs the docklands light railway five uk prisons airport radar and forest bulldozers in florida  \\n\\n serco farewell to npl after  years of innovation  january  serco said goodbye to the national physical laboratory npl at the end of december  after  years of extraordinary innovation and science that has seen the establishment build a worldleading reputation and deliver billions of pounds of benefit for the uk economy during that period under serco s management and leadership npl has delivered an extraordinary variety and breadth of accomplishments for the uks economy and industry some of the key achievements during that time have been it has been estimated that work carried out by the centre of carbon measurement at npl will save eight million tonnes of carbon emissions reductions  of uk footprint and over half a billion pounds in economic benefit over the next decade npls caesium fountain atomic clock is accurate to  second in  million years and npl is playing a key role in introducing rigour to high frequency trading for serco s front running banks in the city through npl zulu time \\n\\nuk cabinet office  emergency planning college  serco types of exercise workshop exercises these are structured discussion events where participants can explore issues in a less pressurised environment they are an ideal way of developing solutions procedures and plans rather than the focus being on decision making table top exercises these involve a realistic scenario and will follow a time line either in realtime or with time jumps to concentrate on the more important areas the participants would be expected to be familiar with the plans and procedures that are being used although the exercise tempo and complexity can be adjusted to suit the current state of training and readiness simulation and media play can be used to support the exercise tabletop exercises help develop teamwork and allow participants to gain a better understanding of their roles and that of other agencies and organisations commandcontrol post exercises these are designed primarily to exercise the senior leadership and support staff in collective planning and decision making within a strategic grouping ideally such exercises would be run from the real command and control locations and using their communications and information systems feeling lucky punk  this could include a mix of locations and varying levels of technical simulation support the gold standard system is flexible to allow the tempo and intensity to be adjusted to ensure maximum training benefit or to fully test and evaluate the most important aspects of a plan such exercises also test information flow communications equipment procedures decision making and coordination live exercises these can range from testing individual components of a system or organisation through to a fullscale rehearsal they are particularly useful where there are regulatory requirements or with highrisk situations they are more complex and costly to organise and deliver but can be integrated with command post exercises as part of a wider exercising package  \\n\\nchristopher rajendran hyman cbe born  july  in durban south africa was chief executive of serco group plc from  to october   on graduation he worked for arthur andersen in  he won an month exchange with ernst  young in london who employed him after four months head hunted in  by serco  hyman became european finance director and in  was made group finance director in  hyman became chief executive  hyman resigned from his role of chief executive of serco on  october  following allegations that serco had overcharged government customers  he was making a presentation to serco shareholder including british and saudi governments on the th floor of the world trade center north tower at the time of the september  attacks in  \\n\\njuly   developments in pki occurred in the early s at the british intelligence agency gchq  where james ellis  clifford cocks and others made important discoveries related to encryption algorithms and key distribution   however as developments at gchq are highly classified the results of this work were kept secret and not publicly acknowledged until the mids \\n\\nthe public disclosure of both secure key exchange and asymmetric key algorithms in  by diffie hellman  rivest shamir  and adleman changed secure communications entirely with the further development of highspeed digital electronic communications the internet and its predecessors a need became evident for ways in which users could securely communicate with each other and as a further consequence of that for ways in which users could be sure with whom they were actually interacting \\n\\nassorted cryptographic protocols were invented and analyzed within which the new cryptographic primitives could be effectively used with the invention of the world wide web and its rapid spread the need for authentication and secure communication became still more acute commercial reasons alone eg ecommerce online access to proprietary databases from web browsers were sufficient taher elgamal and others at netscape developed the ssl protocol https in web urls it included key establishment server authentication prior to v oneway only and so on a pki structure was thus created for web userssites wishing secure communications \\n\\nvendors and entrepreneurs saw the possibility of a large market started companies or new projects at existing companies and began to agitate for legal recognition and protection from liability an american bar association technology project published an extensive analysis of some of the foreseeable legal aspects of pki operations see aba digital signature guidelines and shortly thereafter several us states utah being the first in  and other jurisdictions throughout the world began to enact laws and adopt regulations consumer groups raised questions about privacy access and liability considerations which were more taken into consideration in some jurisdictions than in others \\n\\nthe enacted laws and regulations differed there were technical and operational problems in converting pki schemes into successful commercial operation and progress has been much slower than pioneers had imagined it would be \\n\\nby the first few years of the st century the underlying cryptographic engineering was clearly not easy to deploy correctly operating procedures manual or automatic were not easy to correctly design nor even if so designed to execute perfectly which the engineering required the standards that existed were insufficient \\n\\npki vendors have found a market but it is not quite the market envisioned in the mids and it has grown both more slowly and in somewhat different ways than were anticipated pkis have not solved some of the problems they were expected to and several major vendors have gone out of business or been acquired by others pki has had the most success in government implementations the largest pki implementation to date is the defense information systems agency disa pki infrastructure for the common access cards program  \\n\\nbase one technologies  corporate strategy  we are a government certified womenowned business   \\nwe practice diversity recruitment and staffing for it positions base one was founded in  by a women engineer who had made a career in technology research for many years base one has been very successful in focusing on diversity recruiting and staffing for it projects it has been our experience that the greater the diversity mix the more creative the solution as in any field the more diverse the viewpoint the more thorough your analysis our engineers can think out of the box \\n\\nbecause of our affiliations we have access to pools of resources among more diverse groups  individuals we work with a large pool of minority professionals who specialize in it skills we are able to have access to these resources through our status as a dmwbd firm and our affiliations these affiliations assist us in working with resources among more diverse groups  individuals we are also partnered with firms that are a certified as minority firms disabled veteran firms native american firms vietnam veteran firms women owned firms \\n\\nour hub zone location keeps us close to the professional organizations of great diversity we are active in recruiting from and networking with these community organizations of local it professionals this has given us access to a large pool of diversity talent \\n\\nbase ones staff of engineers are a diverse group of professionals this diverse network of engineers helps us to branch out to other engineers and creates an even larger network of resources for us to work with \\n\\nthe greater the diversity the more complete  thorough the analysis the broader the spectrum of points of view the broader the scope of the analysis we feel that a diverse team gives us a greater advantage in creating cutting edge solutions to that end we will continue to nurture these relationships to further extend our talent pool \\n\\nthe greater the diversity mix the more creative the solution \\n\\nthe more diverse the viewpoint the more thorough the analysis \\n\\nthe more diverse our team the more our engineers can think out of the box \\n\\nthis is why base one technologies concentrates on diversity recruitment in the belief that a diverse team gives us a greater advantage in creating cutting edge solutions \\n\\ninformation security planning is the process whereby an organization seeks to protect its operations and assets from data theft or computer hackers that seek to obtain unauthorized information or sabotage business operations \\n\\nkey clients benefiting from our information security expertise pentagon renovation program faa citigroup mci \\n\\nbase one technologies \\n\\nexpertly researches designs and develops information security policies that protect your data and manage your firms information technology risk at levels acceptable to your business \\n\\nperforms architectural assessments and conducts both internal and external penetration testing the results of these efforts culminate in an extensive risk analysis and vulnerabilities report \\n\\ndevelops implements and supports information security counter measures such as honeypots and evidence logging and incident documentation processes and solutions \\n\\nbase one technologies ltd is a domestic business corporation located in new york ny and was formed on feb   this file was obtained from the secretary of state and has a file number of   \\n\\nsercos office of partner relations opr helps facilitate our aggressive small business utilization and growth strategies through the opr serco mentors four local small businesses under formal mentor prot\\u00e9g\\u00e9 agreements three sponsored by dhs base one technologies tsymmetry inc and heitech services inc and the fourth sponsored by gsa dkw communications inc serco and heitech services were awarded the  dhs mentor prot\\u00e9g\\u00e9 team award for exceeding our mentoring goals httpwwwdticmilwhsdirectivescorrespdfppdf \\n\\nopened in  as the successor to the transitional immigrant visa processing center in rosslyn va the nvc centralizes all immigrant visa preprocessing and appointment scheduling for overseas posts the nvc collects paperwork and fees before forwarding a case ready for adjudication to the responsible post \\n\\nthe center also handles immigrant and fianc\\u00e9 visa petitions and while it does not adjudicate visa applications it provides technical assistance and support to visaadjudicating consular officials overseas \\n\\nonly two foreign service officers the director and deputy director work at the center along with just five civil service employees they work with almost  contract employees doing preprocessing of visas making the center one of the largest employers in the portsmouth area \\n\\nthe contractor serco  inc has worked with the nvc since its inception and with the department for almost  years \\n\\nthe nvc houses more than  million immigrant visa files receives almost two million pieces of mail per year and received more than half a million petitions from the us citizenship and immigration service uscis in  its file rooms highdensity shelves are stacked floortoceiling with files each a collection of someones hopes and dreams and each requiring proper handling  \\n\\nthe nvc also preprocesses the chief of mission com application required for the filing of a petition for a special immigrant visa siv such visas for foreign nationals who have performed services for the us government in iraq and afghanistan require com concurrence before the applicant can file a petition with uscis the nvc collects the requisite documents from such applicants and when complete forwards the package to the us embassies in baghdad or kabul for com approval \\n\\nyours sincerely \\n\\nfield mcconnell united states naval academy  forensic economist  year airline and  year military pilot  hours of safety tel    \\n\\ndavid hawkins tel   forensic economist former leader of oilwell blowout teams now sponsors grand juries in csi crime and safety investigation\"\n        ],\n        \"semantic_type\": \"\",\n        \"description\": \"\"\n      }\n    },\n    {\n      \"column\": \"language\",\n      \"properties\": {\n        \"dtype\": \"category\",\n        \"num_unique_values\": 5,\n        \"samples\": [\n          \"ignore\",\n          \"spanish\",\n          \"german\"\n        ],\n        \"semantic_type\": \"\",\n        \"description\": \"\"\n      }\n    },\n    {\n      \"column\": \"site_url\",\n      \"properties\": {\n        \"dtype\": \"category\",\n        \"num_unique_values\": 68,\n        \"samples\": [\n          \"proudemocrat.com\",\n          \"clickhole.com\",\n          \"abovetopsecret.com\"\n        ],\n        \"semantic_type\": \"\",\n        \"description\": \"\"\n      }\n    },\n    {\n      \"column\": \"main_img_url\",\n      \"properties\": {\n        \"dtype\": \"string\",\n        \"num_unique_values\": 1229,\n        \"samples\": [\n          \"https://4.bp.blogspot.com/-HAp5fNZT0L0/WCr1jhplhiI/AAAAAAAAmGY/E2AUUm8wydo_dB2DtBE_cN2xqwHjB0zTgCLcB/w1200-h630-p-nu/Flitzer-Schach-WM.jpg\",\n          \"http://www.voltairenet.org/local/cache-vignettes/L113xH150/arton193897-6c713.jpg\",\n          \"http://awdnews.com/images/14775618731.jpg\"\n        ],\n        \"semantic_type\": \"\",\n        \"description\": \"\"\n      }\n    },\n    {\n      \"column\": \"type\",\n      \"properties\": {\n        \"dtype\": \"category\",\n        \"num_unique_values\": 8,\n        \"samples\": [\n          \"conspiracy\",\n          \"hate\",\n          \"bias\"\n        ],\n        \"semantic_type\": \"\",\n        \"description\": \"\"\n      }\n    },\n    {\n      \"column\": \"label\",\n      \"properties\": {\n        \"dtype\": \"category\",\n        \"num_unique_values\": 2,\n        \"samples\": [\n          \"Fake\",\n          \"Real\"\n        ],\n        \"semantic_type\": \"\",\n        \"description\": \"\"\n      }\n    },\n    {\n      \"column\": \"title_without_stopwords\",\n      \"properties\": {\n        \"dtype\": \"string\",\n        \"num_unique_values\": 1780,\n        \"samples\": [\n          \"weekly astrology nov us election prediction video\",\n          \"friday fox follies megyn murdochs money\"\n        ],\n        \"semantic_type\": \"\",\n        \"description\": \"\"\n      }\n    },\n    {\n      \"column\": \"text_without_stopwords\",\n      \"properties\": {\n        \"dtype\": \"string\",\n        \"num_unique_values\": 1937,\n        \"samples\": [\n          \"email ever wonder whats mind todays notable people well dont miss unbelievable roundup best talked quotes day saw contortionist fold box toys food box didnt really see point paula hawkins flexibility youre rich pay guy breathe shoes warm put youre less wealthy still afford someone really matter frugal spending organizing coop neighborhood people take turns breathing others shoes sheryl sandberg everyday luxury skin avocado hide many secret remove journey mystery madness neil gaiman\",\n          \"sonntag november sonntagsfrage sagen sie dazu dass donald trump tats\\u00e4chlich gewonnen hat w das werden sich hierzulande viele gedacht haben als sie mittwochmorgen die ersten nachrichten von donald trumps sieg gelesen haben nun wo sie sich allm\\u00e4hlich damit abgefunden haben d\\u00fcrften der ustillon nicht unterst\\u00fctzt vom meinungsforschungsinstitut opinion control weil denen seit der wahl nicht mehr zu trauen ist dieser woche von ihnen wissen und hier noch die unglaublich spannenden ergebnisse der letzten sonntagsfrage stimmen gesamt wer soll n\\u00e4chster bundespr\\u00e4sident werden topantworten tim wiese pro rhetorisches ass contra passt nicht durch die t\\u00fcr im schloss bellevue stimmen ich selbst pro einzige person der ich traue contra leider korrupt stimmen jan b\\u00f6hmermann pro etwas lustiger als gauck contra krieg mit der t\\u00fcrkei stimmen\"\n        ],\n        \"semantic_type\": \"\",\n        \"description\": \"\"\n      }\n    },\n    {\n      \"column\": \"hasImage\",\n      \"properties\": {\n        \"dtype\": \"number\",\n        \"std\": 0.41629892386736406,\n        \"min\": 0.0,\n        \"max\": 1.0,\n        \"num_unique_values\": 2,\n        \"samples\": [\n          0.0,\n          1.0\n        ],\n        \"semantic_type\": \"\",\n        \"description\": \"\"\n      }\n    }\n  ]\n}"
            }
          },
          "metadata": {},
          "execution_count": 2
        }
      ]
    },
    {
      "cell_type": "code",
      "source": [
        "df.tail()"
      ],
      "metadata": {
        "id": "wABg5TEU0q59",
        "colab": {
          "base_uri": "https://localhost:8080/",
          "height": 417
        },
        "outputId": "6a000cba-49bc-4b65-bb9c-43a00e6be964"
      },
      "execution_count": null,
      "outputs": [
        {
          "output_type": "execute_result",
          "data": {
            "text/plain": [
              "           author                      published  \\\n",
              "2091  -NO AUTHOR-  2016-10-27T15:36:10.573+03:00   \n",
              "2092  -NO AUTHOR-  2016-10-27T15:36:10.671+03:00   \n",
              "2093  -NO AUTHOR-  2016-10-27T13:30:00.000+03:00   \n",
              "2094  -NO AUTHOR-  2016-10-27T15:58:41.935+03:00   \n",
              "2095  Eddy Lavine  2016-10-28T01:02:00.000+03:00   \n",
              "\n",
              "                                                  title text language  \\\n",
              "2091          teens walk free after gangrape conviction  NaN  english   \n",
              "2092         school named for munichmassacre mastermind  NaN  english   \n",
              "2093                      russia unveils satan  missile  NaN  english   \n",
              "2094              check out hillarythemed haunted house  NaN  english   \n",
              "2095  cannabis aficionados develop thca crystalline ...  NaN      NaN   \n",
              "\n",
              "     site_url                                       main_img_url  type label  \\\n",
              "2091  wnd.com  http://www.wnd.com/files/2016/10/hillary_haunt...  bias  Real   \n",
              "2092  wnd.com  http://www.wnd.com/files/2016/10/rambo_richard...  bias  Real   \n",
              "2093  wnd.com  http://www.wnd.com/files/2016/10/skype_sex_sca...    bs  Fake   \n",
              "2094  wnd.com  http://worldtruth.tv/wp-content/uploads/2016/1...    bs  Fake   \n",
              "2095      NaN                                                NaN   NaN   NaN   \n",
              "\n",
              "                                title_without_stopwords  \\\n",
              "2091  good samaritan wearing indian headdress disarm...   \n",
              "2092                 skype sex scam fortune built shame   \n",
              "2093  cannabis aficionados develop thca crystalline ...   \n",
              "2094                                              title   \n",
              "2095                                                NaN   \n",
              "\n",
              "     text_without_stopwords  hasImage  \n",
              "2091                    NaN       1.0  \n",
              "2092                    NaN       1.0  \n",
              "2093                    NaN       1.0  \n",
              "2094                    NaN       0.0  \n",
              "2095                    NaN       NaN  "
            ],
            "text/html": [
              "\n",
              "  <div id=\"df-4fa29744-eb02-4087-bc49-a6b3fc33b221\" class=\"colab-df-container\">\n",
              "    <div>\n",
              "<style scoped>\n",
              "    .dataframe tbody tr th:only-of-type {\n",
              "        vertical-align: middle;\n",
              "    }\n",
              "\n",
              "    .dataframe tbody tr th {\n",
              "        vertical-align: top;\n",
              "    }\n",
              "\n",
              "    .dataframe thead th {\n",
              "        text-align: right;\n",
              "    }\n",
              "</style>\n",
              "<table border=\"1\" class=\"dataframe\">\n",
              "  <thead>\n",
              "    <tr style=\"text-align: right;\">\n",
              "      <th></th>\n",
              "      <th>author</th>\n",
              "      <th>published</th>\n",
              "      <th>title</th>\n",
              "      <th>text</th>\n",
              "      <th>language</th>\n",
              "      <th>site_url</th>\n",
              "      <th>main_img_url</th>\n",
              "      <th>type</th>\n",
              "      <th>label</th>\n",
              "      <th>title_without_stopwords</th>\n",
              "      <th>text_without_stopwords</th>\n",
              "      <th>hasImage</th>\n",
              "    </tr>\n",
              "  </thead>\n",
              "  <tbody>\n",
              "    <tr>\n",
              "      <th>2091</th>\n",
              "      <td>-NO AUTHOR-</td>\n",
              "      <td>2016-10-27T15:36:10.573+03:00</td>\n",
              "      <td>teens walk free after gangrape conviction</td>\n",
              "      <td>NaN</td>\n",
              "      <td>english</td>\n",
              "      <td>wnd.com</td>\n",
              "      <td>http://www.wnd.com/files/2016/10/hillary_haunt...</td>\n",
              "      <td>bias</td>\n",
              "      <td>Real</td>\n",
              "      <td>good samaritan wearing indian headdress disarm...</td>\n",
              "      <td>NaN</td>\n",
              "      <td>1.0</td>\n",
              "    </tr>\n",
              "    <tr>\n",
              "      <th>2092</th>\n",
              "      <td>-NO AUTHOR-</td>\n",
              "      <td>2016-10-27T15:36:10.671+03:00</td>\n",
              "      <td>school named for munichmassacre mastermind</td>\n",
              "      <td>NaN</td>\n",
              "      <td>english</td>\n",
              "      <td>wnd.com</td>\n",
              "      <td>http://www.wnd.com/files/2016/10/rambo_richard...</td>\n",
              "      <td>bias</td>\n",
              "      <td>Real</td>\n",
              "      <td>skype sex scam fortune built shame</td>\n",
              "      <td>NaN</td>\n",
              "      <td>1.0</td>\n",
              "    </tr>\n",
              "    <tr>\n",
              "      <th>2093</th>\n",
              "      <td>-NO AUTHOR-</td>\n",
              "      <td>2016-10-27T13:30:00.000+03:00</td>\n",
              "      <td>russia unveils satan  missile</td>\n",
              "      <td>NaN</td>\n",
              "      <td>english</td>\n",
              "      <td>wnd.com</td>\n",
              "      <td>http://www.wnd.com/files/2016/10/skype_sex_sca...</td>\n",
              "      <td>bs</td>\n",
              "      <td>Fake</td>\n",
              "      <td>cannabis aficionados develop thca crystalline ...</td>\n",
              "      <td>NaN</td>\n",
              "      <td>1.0</td>\n",
              "    </tr>\n",
              "    <tr>\n",
              "      <th>2094</th>\n",
              "      <td>-NO AUTHOR-</td>\n",
              "      <td>2016-10-27T15:58:41.935+03:00</td>\n",
              "      <td>check out hillarythemed haunted house</td>\n",
              "      <td>NaN</td>\n",
              "      <td>english</td>\n",
              "      <td>wnd.com</td>\n",
              "      <td>http://worldtruth.tv/wp-content/uploads/2016/1...</td>\n",
              "      <td>bs</td>\n",
              "      <td>Fake</td>\n",
              "      <td>title</td>\n",
              "      <td>NaN</td>\n",
              "      <td>0.0</td>\n",
              "    </tr>\n",
              "    <tr>\n",
              "      <th>2095</th>\n",
              "      <td>Eddy Lavine</td>\n",
              "      <td>2016-10-28T01:02:00.000+03:00</td>\n",
              "      <td>cannabis aficionados develop thca crystalline ...</td>\n",
              "      <td>NaN</td>\n",
              "      <td>NaN</td>\n",
              "      <td>NaN</td>\n",
              "      <td>NaN</td>\n",
              "      <td>NaN</td>\n",
              "      <td>NaN</td>\n",
              "      <td>NaN</td>\n",
              "      <td>NaN</td>\n",
              "      <td>NaN</td>\n",
              "    </tr>\n",
              "  </tbody>\n",
              "</table>\n",
              "</div>\n",
              "    <div class=\"colab-df-buttons\">\n",
              "\n",
              "  <div class=\"colab-df-container\">\n",
              "    <button class=\"colab-df-convert\" onclick=\"convertToInteractive('df-4fa29744-eb02-4087-bc49-a6b3fc33b221')\"\n",
              "            title=\"Convert this dataframe to an interactive table.\"\n",
              "            style=\"display:none;\">\n",
              "\n",
              "  <svg xmlns=\"http://www.w3.org/2000/svg\" height=\"24px\" viewBox=\"0 -960 960 960\">\n",
              "    <path d=\"M120-120v-720h720v720H120Zm60-500h600v-160H180v160Zm220 220h160v-160H400v160Zm0 220h160v-160H400v160ZM180-400h160v-160H180v160Zm440 0h160v-160H620v160ZM180-180h160v-160H180v160Zm440 0h160v-160H620v160Z\"/>\n",
              "  </svg>\n",
              "    </button>\n",
              "\n",
              "  <style>\n",
              "    .colab-df-container {\n",
              "      display:flex;\n",
              "      gap: 12px;\n",
              "    }\n",
              "\n",
              "    .colab-df-convert {\n",
              "      background-color: #E8F0FE;\n",
              "      border: none;\n",
              "      border-radius: 50%;\n",
              "      cursor: pointer;\n",
              "      display: none;\n",
              "      fill: #1967D2;\n",
              "      height: 32px;\n",
              "      padding: 0 0 0 0;\n",
              "      width: 32px;\n",
              "    }\n",
              "\n",
              "    .colab-df-convert:hover {\n",
              "      background-color: #E2EBFA;\n",
              "      box-shadow: 0px 1px 2px rgba(60, 64, 67, 0.3), 0px 1px 3px 1px rgba(60, 64, 67, 0.15);\n",
              "      fill: #174EA6;\n",
              "    }\n",
              "\n",
              "    .colab-df-buttons div {\n",
              "      margin-bottom: 4px;\n",
              "    }\n",
              "\n",
              "    [theme=dark] .colab-df-convert {\n",
              "      background-color: #3B4455;\n",
              "      fill: #D2E3FC;\n",
              "    }\n",
              "\n",
              "    [theme=dark] .colab-df-convert:hover {\n",
              "      background-color: #434B5C;\n",
              "      box-shadow: 0px 1px 3px 1px rgba(0, 0, 0, 0.15);\n",
              "      filter: drop-shadow(0px 1px 2px rgba(0, 0, 0, 0.3));\n",
              "      fill: #FFFFFF;\n",
              "    }\n",
              "  </style>\n",
              "\n",
              "    <script>\n",
              "      const buttonEl =\n",
              "        document.querySelector('#df-4fa29744-eb02-4087-bc49-a6b3fc33b221 button.colab-df-convert');\n",
              "      buttonEl.style.display =\n",
              "        google.colab.kernel.accessAllowed ? 'block' : 'none';\n",
              "\n",
              "      async function convertToInteractive(key) {\n",
              "        const element = document.querySelector('#df-4fa29744-eb02-4087-bc49-a6b3fc33b221');\n",
              "        const dataTable =\n",
              "          await google.colab.kernel.invokeFunction('convertToInteractive',\n",
              "                                                    [key], {});\n",
              "        if (!dataTable) return;\n",
              "\n",
              "        const docLinkHtml = 'Like what you see? Visit the ' +\n",
              "          '<a target=\"_blank\" href=https://colab.research.google.com/notebooks/data_table.ipynb>data table notebook</a>'\n",
              "          + ' to learn more about interactive tables.';\n",
              "        element.innerHTML = '';\n",
              "        dataTable['output_type'] = 'display_data';\n",
              "        await google.colab.output.renderOutput(dataTable, element);\n",
              "        const docLink = document.createElement('div');\n",
              "        docLink.innerHTML = docLinkHtml;\n",
              "        element.appendChild(docLink);\n",
              "      }\n",
              "    </script>\n",
              "  </div>\n",
              "\n",
              "\n",
              "<div id=\"df-e0848d83-7b72-4ab4-bb2e-ec787afb68d1\">\n",
              "  <button class=\"colab-df-quickchart\" onclick=\"quickchart('df-e0848d83-7b72-4ab4-bb2e-ec787afb68d1')\"\n",
              "            title=\"Suggest charts\"\n",
              "            style=\"display:none;\">\n",
              "\n",
              "<svg xmlns=\"http://www.w3.org/2000/svg\" height=\"24px\"viewBox=\"0 0 24 24\"\n",
              "     width=\"24px\">\n",
              "    <g>\n",
              "        <path d=\"M19 3H5c-1.1 0-2 .9-2 2v14c0 1.1.9 2 2 2h14c1.1 0 2-.9 2-2V5c0-1.1-.9-2-2-2zM9 17H7v-7h2v7zm4 0h-2V7h2v10zm4 0h-2v-4h2v4z\"/>\n",
              "    </g>\n",
              "</svg>\n",
              "  </button>\n",
              "\n",
              "<style>\n",
              "  .colab-df-quickchart {\n",
              "      --bg-color: #E8F0FE;\n",
              "      --fill-color: #1967D2;\n",
              "      --hover-bg-color: #E2EBFA;\n",
              "      --hover-fill-color: #174EA6;\n",
              "      --disabled-fill-color: #AAA;\n",
              "      --disabled-bg-color: #DDD;\n",
              "  }\n",
              "\n",
              "  [theme=dark] .colab-df-quickchart {\n",
              "      --bg-color: #3B4455;\n",
              "      --fill-color: #D2E3FC;\n",
              "      --hover-bg-color: #434B5C;\n",
              "      --hover-fill-color: #FFFFFF;\n",
              "      --disabled-bg-color: #3B4455;\n",
              "      --disabled-fill-color: #666;\n",
              "  }\n",
              "\n",
              "  .colab-df-quickchart {\n",
              "    background-color: var(--bg-color);\n",
              "    border: none;\n",
              "    border-radius: 50%;\n",
              "    cursor: pointer;\n",
              "    display: none;\n",
              "    fill: var(--fill-color);\n",
              "    height: 32px;\n",
              "    padding: 0;\n",
              "    width: 32px;\n",
              "  }\n",
              "\n",
              "  .colab-df-quickchart:hover {\n",
              "    background-color: var(--hover-bg-color);\n",
              "    box-shadow: 0 1px 2px rgba(60, 64, 67, 0.3), 0 1px 3px 1px rgba(60, 64, 67, 0.15);\n",
              "    fill: var(--button-hover-fill-color);\n",
              "  }\n",
              "\n",
              "  .colab-df-quickchart-complete:disabled,\n",
              "  .colab-df-quickchart-complete:disabled:hover {\n",
              "    background-color: var(--disabled-bg-color);\n",
              "    fill: var(--disabled-fill-color);\n",
              "    box-shadow: none;\n",
              "  }\n",
              "\n",
              "  .colab-df-spinner {\n",
              "    border: 2px solid var(--fill-color);\n",
              "    border-color: transparent;\n",
              "    border-bottom-color: var(--fill-color);\n",
              "    animation:\n",
              "      spin 1s steps(1) infinite;\n",
              "  }\n",
              "\n",
              "  @keyframes spin {\n",
              "    0% {\n",
              "      border-color: transparent;\n",
              "      border-bottom-color: var(--fill-color);\n",
              "      border-left-color: var(--fill-color);\n",
              "    }\n",
              "    20% {\n",
              "      border-color: transparent;\n",
              "      border-left-color: var(--fill-color);\n",
              "      border-top-color: var(--fill-color);\n",
              "    }\n",
              "    30% {\n",
              "      border-color: transparent;\n",
              "      border-left-color: var(--fill-color);\n",
              "      border-top-color: var(--fill-color);\n",
              "      border-right-color: var(--fill-color);\n",
              "    }\n",
              "    40% {\n",
              "      border-color: transparent;\n",
              "      border-right-color: var(--fill-color);\n",
              "      border-top-color: var(--fill-color);\n",
              "    }\n",
              "    60% {\n",
              "      border-color: transparent;\n",
              "      border-right-color: var(--fill-color);\n",
              "    }\n",
              "    80% {\n",
              "      border-color: transparent;\n",
              "      border-right-color: var(--fill-color);\n",
              "      border-bottom-color: var(--fill-color);\n",
              "    }\n",
              "    90% {\n",
              "      border-color: transparent;\n",
              "      border-bottom-color: var(--fill-color);\n",
              "    }\n",
              "  }\n",
              "</style>\n",
              "\n",
              "  <script>\n",
              "    async function quickchart(key) {\n",
              "      const quickchartButtonEl =\n",
              "        document.querySelector('#' + key + ' button');\n",
              "      quickchartButtonEl.disabled = true;  // To prevent multiple clicks.\n",
              "      quickchartButtonEl.classList.add('colab-df-spinner');\n",
              "      try {\n",
              "        const charts = await google.colab.kernel.invokeFunction(\n",
              "            'suggestCharts', [key], {});\n",
              "      } catch (error) {\n",
              "        console.error('Error during call to suggestCharts:', error);\n",
              "      }\n",
              "      quickchartButtonEl.classList.remove('colab-df-spinner');\n",
              "      quickchartButtonEl.classList.add('colab-df-quickchart-complete');\n",
              "    }\n",
              "    (() => {\n",
              "      let quickchartButtonEl =\n",
              "        document.querySelector('#df-e0848d83-7b72-4ab4-bb2e-ec787afb68d1 button');\n",
              "      quickchartButtonEl.style.display =\n",
              "        google.colab.kernel.accessAllowed ? 'block' : 'none';\n",
              "    })();\n",
              "  </script>\n",
              "</div>\n",
              "\n",
              "    </div>\n",
              "  </div>\n"
            ],
            "application/vnd.google.colaboratory.intrinsic+json": {
              "type": "dataframe",
              "repr_error": "0"
            }
          },
          "metadata": {},
          "execution_count": 3
        }
      ]
    },
    {
      "cell_type": "code",
      "source": [
        "df.info()"
      ],
      "metadata": {
        "id": "NH2a672QwsGL",
        "colab": {
          "base_uri": "https://localhost:8080/"
        },
        "outputId": "87cd47e6-757c-4759-8a5e-28116a23ca6a"
      },
      "execution_count": null,
      "outputs": [
        {
          "output_type": "stream",
          "name": "stdout",
          "text": [
            "<class 'pandas.core.frame.DataFrame'>\n",
            "RangeIndex: 2096 entries, 0 to 2095\n",
            "Data columns (total 12 columns):\n",
            " #   Column                   Non-Null Count  Dtype  \n",
            "---  ------                   --------------  -----  \n",
            " 0   author                   2096 non-null   object \n",
            " 1   published                2096 non-null   object \n",
            " 2   title                    2096 non-null   object \n",
            " 3   text                     2050 non-null   object \n",
            " 4   language                 2095 non-null   object \n",
            " 5   site_url                 2095 non-null   object \n",
            " 6   main_img_url             2095 non-null   object \n",
            " 7   type                     2095 non-null   object \n",
            " 8   label                    2095 non-null   object \n",
            " 9   title_without_stopwords  2094 non-null   object \n",
            " 10  text_without_stopwords   2046 non-null   object \n",
            " 11  hasImage                 2095 non-null   float64\n",
            "dtypes: float64(1), object(11)\n",
            "memory usage: 196.6+ KB\n"
          ]
        }
      ]
    },
    {
      "cell_type": "code",
      "source": [
        "df.isnull().sum()\n"
      ],
      "metadata": {
        "colab": {
          "base_uri": "https://localhost:8080/"
        },
        "id": "boq2IXz1xFqN",
        "outputId": "458967c7-b2f1-46c1-cba7-f6db05138cfc"
      },
      "execution_count": null,
      "outputs": [
        {
          "output_type": "execute_result",
          "data": {
            "text/plain": [
              "author                      0\n",
              "published                   0\n",
              "title                       0\n",
              "text                       46\n",
              "language                    1\n",
              "site_url                    1\n",
              "main_img_url                1\n",
              "type                        1\n",
              "label                       1\n",
              "title_without_stopwords     2\n",
              "text_without_stopwords     50\n",
              "hasImage                    1\n",
              "dtype: int64"
            ]
          },
          "metadata": {},
          "execution_count": 5
        }
      ]
    },
    {
      "cell_type": "markdown",
      "source": [
        "# Data Cleaning"
      ],
      "metadata": {
        "id": "Icc4dr9qDYVk"
      }
    },
    {
      "cell_type": "code",
      "source": [
        "#delete the row where the label column has null value\n",
        "\n",
        "df = df.dropna(subset=['label'])"
      ],
      "metadata": {
        "id": "tAQpBEaT_n2A"
      },
      "execution_count": null,
      "outputs": []
    },
    {
      "cell_type": "code",
      "source": [
        "# find how many rows have null value in text column and is \"Fake\" in label column\n",
        "\n",
        "df.loc[(df['text'].isnull()) & (df['label'] == 'Real')].shape[0]"
      ],
      "metadata": {
        "colab": {
          "base_uri": "https://localhost:8080/"
        },
        "id": "PF-0PTo6-twX",
        "outputId": "2269cf7b-0a92-4aa7-819b-da4eb56dbdbe"
      },
      "execution_count": null,
      "outputs": [
        {
          "output_type": "execute_result",
          "data": {
            "text/plain": [
              "43"
            ]
          },
          "metadata": {},
          "execution_count": 7
        }
      ]
    },
    {
      "cell_type": "code",
      "source": [
        "#delete rows with null values in text\n",
        "\n",
        "df = df.dropna(subset=['text'])\n",
        "df.isnull().sum()"
      ],
      "metadata": {
        "colab": {
          "base_uri": "https://localhost:8080/"
        },
        "id": "gKUs53ioOrfC",
        "outputId": "4c665d80-3aea-4265-849e-de5461691987"
      },
      "execution_count": null,
      "outputs": [
        {
          "output_type": "execute_result",
          "data": {
            "text/plain": [
              "author                     0\n",
              "published                  0\n",
              "title                      0\n",
              "text                       0\n",
              "language                   0\n",
              "site_url                   0\n",
              "main_img_url               0\n",
              "type                       0\n",
              "label                      0\n",
              "title_without_stopwords    1\n",
              "text_without_stopwords     4\n",
              "hasImage                   0\n",
              "dtype: int64"
            ]
          },
          "metadata": {},
          "execution_count": 8
        }
      ]
    },
    {
      "cell_type": "markdown",
      "source": [
        "# EDA"
      ],
      "metadata": {
        "id": "lNVBH8vNZfmR"
      }
    },
    {
      "source": [
        "#distribution of real or fake news\n",
        "\n",
        "from matplotlib import pyplot as plt\n",
        "import seaborn as sns\n",
        "df.groupby('label').size().plot(kind='barh', color=sns.palettes.mpl_palette('Dark2'))\n",
        "plt.gca().spines[['top', 'right',]].set_visible(False)"
      ],
      "cell_type": "code",
      "execution_count": null,
      "outputs": [
        {
          "output_type": "display_data",
          "data": {
            "text/plain": [
              "<Figure size 640x480 with 1 Axes>"
            ],
            "image/png": "[encoded data removed]"
          },
          "metadata": {}
        }
      ],
      "metadata": {
        "colab": {
          "base_uri": "https://localhost:8080/",
          "height": 430
        },
        "id": "AxJ_BPqJuTlP",
        "outputId": "b810166b-2fae-4509-a8df-c3e17e573e69"
      }
    },
    {
      "source": [
        "#distribution of the news types\n",
        "\n",
        "from matplotlib import pyplot as plt\n",
        "import seaborn as sns\n",
        "df.groupby('type').size().plot(kind='barh', color=sns.palettes.mpl_palette('Dark2'))\n",
        "plt.gca().spines[['top', 'right',]].set_visible(False)"
      ],
      "cell_type": "code",
      "execution_count": null,
      "outputs": [
        {
          "output_type": "display_data",
          "data": {
            "text/plain": [
              "<Figure size 640x480 with 1 Axes>"
            ],
            "image/png": "[encoded data removed]"
          },
          "metadata": {}
        }
      ],
      "metadata": {
        "colab": {
          "base_uri": "https://localhost:8080/",
          "height": 430
        },
        "id": "REJjr1O5uNvt",
        "outputId": "df539ed5-e244-4399-b70b-f6d4ae8419ca"
      }
    },
    {
      "source": [
        "#distribution of the news languages\n",
        "from matplotlib import pyplot as plt\n",
        "import seaborn as sns\n",
        "df.groupby('language').size().plot(kind='barh', color=sns.palettes.mpl_palette('Dark2'))\n",
        "plt.gca().spines[['top', 'right',]].set_visible(False)"
      ],
      "cell_type": "code",
      "execution_count": null,
      "outputs": [
        {
          "output_type": "display_data",
          "data": {
            "text/plain": [
              "<Figure size 640x480 with 1 Axes>"
            ],
            "image/png": "[encoded data removed]"
          },
          "metadata": {}
        }
      ],
      "metadata": {
        "colab": {
          "base_uri": "https://localhost:8080/",
          "height": 430
        },
        "id": "SccZ1L1tAJuF",
        "outputId": "8df9a633-2f8b-4ea8-a37d-f58d4a1d98b6"
      }
    },
    {
      "source": [
        "#distribution of whether the news has images\n",
        "\n",
        "from matplotlib import pyplot as plt\n",
        "df['hasImage'].plot(kind='hist', bins=20, title='hasImage')\n",
        "plt.gca().spines[['top', 'right',]].set_visible(False)"
      ],
      "cell_type": "code",
      "execution_count": null,
      "outputs": [
        {
          "output_type": "display_data",
          "data": {
            "text/plain": [
              "<Figure size 640x480 with 1 Axes>"
            ],
            "image/png": "[encoded data removed]"
          },
          "metadata": {}
        }
      ],
      "metadata": {
        "colab": {
          "base_uri": "https://localhost:8080/",
          "height": 452
        },
        "id": "3UGx2LYmAVlD",
        "outputId": "e5d87789-8d78-4208-cd17-d78a307b9f3c"
      }
    },
    {
      "cell_type": "code",
      "source": [
        "#see which authors tend to publish fake news\n",
        "df.loc[df.label == \"Fake\"].author.value_counts()"
      ],
      "metadata": {
        "colab": {
          "base_uri": "https://localhost:8080/"
        },
        "id": "7SDZmSE8DoRr",
        "outputId": "de5225a8-97ce-45a7-f60e-1c06e2f0c22f"
      },
      "execution_count": null,
      "outputs": [
        {
          "output_type": "execute_result",
          "data": {
            "text/plain": [
              "No Author                              329\n",
              "Activist Post                           82\n",
              "noreply@blogger.com (Der Postillon)     72\n",
              "Anonymous                               58\n",
              "admin                                   48\n",
              "                                      ... \n",
              "Paulus                                   1\n",
              "Ann Tenna                                1\n",
              "David Risselada                          1\n",
              "Theodore Shoebat                         1\n",
              "Old_Logan                                1\n",
              "Name: author, Length: 302, dtype: int64"
            ]
          },
          "metadata": {},
          "execution_count": 13
        }
      ]
    },
    {
      "cell_type": "code",
      "source": [
        "#see which authors tend to publish real news\n",
        "df.loc[df.label == \"Real\"].author.value_counts()"
      ],
      "metadata": {
        "colab": {
          "base_uri": "https://localhost:8080/"
        },
        "id": "FrpJmYv7F5a_",
        "outputId": "0d1d8463-a520-46f2-98ed-7bc15c32dc90"
      },
      "execution_count": null,
      "outputs": [
        {
          "output_type": "execute_result",
          "data": {
            "text/plain": [
              "No Author                                                            176\n",
              "EdJenner                                                              73\n",
              "Daniel Greenfield                                                     53\n",
              "Jason Easley                                                          45\n",
              "Dr. Patrick Slattery                                                  36\n",
              "                                                                    ... \n",
              "Aaron Clarey                                                           1\n",
              "4 Goals For The Neomasculinity Movement During Trumps First Term      1\n",
              "Brock Robinson                                                         1\n",
              "Matt Forney                                                            1\n",
              "Leo Hohmann                                                            1\n",
              "Name: author, Length: 196, dtype: int64"
            ]
          },
          "metadata": {},
          "execution_count": 14
        }
      ]
    },
    {
      "cell_type": "code",
      "source": [
        "#see which url links tend to publish fake news\n",
        "df.loc[df.label == \"Fake\"].site_url.value_counts()"
      ],
      "metadata": {
        "id": "cTQnThwOF-pD",
        "colab": {
          "base_uri": "https://localhost:8080/"
        },
        "outputId": "bfc392db-7e3b-4a7c-ec5e-2be0163d9ca1"
      },
      "execution_count": null,
      "outputs": [
        {
          "output_type": "execute_result",
          "data": {
            "text/plain": [
              "activistpost.com                  100\n",
              "infowars.com                      100\n",
              "awdnews.com                       100\n",
              "naturalnews.com                   100\n",
              "clickhole.com                     100\n",
              "prisonplanet.com                   99\n",
              "abeldanger.net                     82\n",
              "der-postillon.com                  72\n",
              "ahtribune.com                      68\n",
              "abovetopsecret.com                 53\n",
              "legorafi.fr                        46\n",
              "amtvmedia.com                      44\n",
              "amren.com                          40\n",
              "dcclothesline.com                  37\n",
              "corbettreport.com                  28\n",
              "fromthetrenchesworldreport.com     28\n",
              "21stcenturywire.com                24\n",
              "thefreethoughtproject.com          17\n",
              "dennismichaellynch.com             16\n",
              "departed.co                        14\n",
              "adobochronicles.com                13\n",
              "shiftfrequency.com                 11\n",
              "whatreallyhappened.com             10\n",
              "darkmoon.me                         9\n",
              "theeconomiccollapseblog.com         8\n",
              "davidstockmanscontracorner.com      7\n",
              "thedailysheeple.com                 7\n",
              "galacticconnection.com              5\n",
              "newstarget.com                      4\n",
              "coasttocoastam.com                  4\n",
              "veteranstoday.com                   3\n",
              "counterpunch.org                    3\n",
              "countercurrents.org                 3\n",
              "thesaker.is                         3\n",
              "americasfreedomfighters.com         3\n",
              "americannews.com                    2\n",
              "davidwolfe.com                      2\n",
              "topinfopost.com                     2\n",
              "theonion.com                        2\n",
              "voltairenet.org                     2\n",
              "abcnews.com.co                      2\n",
              "westernjournalism.com               2\n",
              "theunrealtimes.com                  1\n",
              "thetruthseeker.co.uk                1\n",
              "washingtonsblog.com                 1\n",
              "therussophile.org                   1\n",
              "thepeoplescube.com                  1\n",
              "returnofkings.com                   1\n",
              "themindunleashed.com                1\n",
              "allnewspipeline.com                 1\n",
              "defenddemocracy.press               1\n",
              "projectveritas.com                  1\n",
              "presstv.ir                          1\n",
              "barenakedislam.com                  1\n",
              "madworldnews.com                    1\n",
              "intrepidreport.com                  1\n",
              "globalresearch.ca                   1\n",
              "davidduke.com                       1\n",
              "frontpagemag.com                    1\n",
              "Name: site_url, dtype: int64"
            ]
          },
          "metadata": {},
          "execution_count": 15
        }
      ]
    },
    {
      "cell_type": "code",
      "source": [
        "#see which url links tend to publish real news\n",
        "df.loc[df.label == \"Real\"].site_url.value_counts()"
      ],
      "metadata": {
        "colab": {
          "base_uri": "https://localhost:8080/"
        },
        "id": "LxusrE8GGUPF",
        "outputId": "73939f14-c673-4c17-870d-39dad11fe031"
      },
      "execution_count": null,
      "outputs": [
        {
          "output_type": "execute_result",
          "data": {
            "text/plain": [
              "politicususa.com                  100\n",
              "presstv.ir                         99\n",
              "returnofkings.com                  99\n",
              "frontpagemag.com                   99\n",
              "westernjournalism.com              98\n",
              "dailywire.com                      81\n",
              "wnd.com                            55\n",
              "davidduke.com                      44\n",
              "100percentfedup.com                33\n",
              "presstv.com                        21\n",
              "addictinginfo.org                  20\n",
              "washingtonsblog.com                 2\n",
              "whydontyoutrythis.com               2\n",
              "newstarget.com                      1\n",
              "prisonplanet.com                    1\n",
              "proudemocrat.com                    1\n",
              "redstatewatcher.com                 1\n",
              "fromthetrenchesworldreport.com      1\n",
              "Name: site_url, dtype: int64"
            ]
          },
          "metadata": {},
          "execution_count": 16
        }
      ]
    },
    {
      "cell_type": "markdown",
      "source": [
        "# Data preprocessing"
      ],
      "metadata": {
        "id": "4qe2i7n_NwuL"
      }
    },
    {
      "cell_type": "code",
      "source": [
        "#only kepp rows where the language is english\n",
        "\n",
        "df = df[df['language'] == 'english']\n",
        "\n",
        "df.groupby('language').size().plot(kind='barh', color=sns.palettes.mpl_palette('Dark2'))\n",
        "plt.gca().spines[['top', 'right',]].set_visible(False)"
      ],
      "metadata": {
        "colab": {
          "base_uri": "https://localhost:8080/",
          "height": 430
        },
        "id": "vYsxD1I0u9c-",
        "outputId": "65bb9690-33e9-43f2-ab13-3b76e74f8f04"
      },
      "execution_count": null,
      "outputs": [
        {
          "output_type": "display_data",
          "data": {
            "text/plain": [
              "<Figure size 640x480 with 1 Axes>"
            ],
            "image/png": "[encoded data removed]"
          },
          "metadata": {}
        }
      ]
    },
    {
      "cell_type": "code",
      "source": [
        "#using label encoding, label the data in label column to make it 0 for \"fake\" and 1 for \"real\"\n",
        "\n",
        "from sklearn.preprocessing import LabelEncoder\n",
        "\n",
        "le = LabelEncoder()\n",
        "df['label'] = le.fit_transform(df['label'])\n",
        "df.head()\n"
      ],
      "metadata": {
        "colab": {
          "base_uri": "https://localhost:8080/",
          "height": 660
        },
        "id": "djpt8xYMPPBn",
        "outputId": "a06121e1-1974-46c2-9dc3-5fa3e0393094"
      },
      "execution_count": null,
      "outputs": [
        {
          "output_type": "execute_result",
          "data": {
            "text/plain": [
              "                 author                      published  \\\n",
              "0     Barracuda Brigade  2016-10-26T21:41:00.000+03:00   \n",
              "1  reasoning with facts  2016-10-29T08:47:11.259+03:00   \n",
              "2     Barracuda Brigade  2016-10-31T01:41:49.479+02:00   \n",
              "3                Fed Up  2016-11-01T05:22:00.000+02:00   \n",
              "4                Fed Up  2016-11-01T21:56:00.000+02:00   \n",
              "\n",
              "                                               title  \\\n",
              "0  muslims busted they stole millions in govt ben...   \n",
              "1  re why did attorney general loretta lynch plea...   \n",
              "2  breaking weiner cooperating with fbi on hillar...   \n",
              "3  pin drop speech by father of daughter kidnappe...   \n",
              "4  fantastic trumps  point plan to reform healthc...   \n",
              "\n",
              "                                                text language  \\\n",
              "0  print they should pay all the back all the mon...  english   \n",
              "1  why did attorney general loretta lynch plead t...  english   \n",
              "2  red state  \\nfox news sunday reported this mor...  english   \n",
              "3  email kayla mueller was a prisoner and torture...  english   \n",
              "4  email healthcare reform to make america great ...  english   \n",
              "\n",
              "              site_url                                       main_img_url  \\\n",
              "0  100percentfedup.com  http://bb4sp.com/wp-content/uploads/2016/10/Fu...   \n",
              "1  100percentfedup.com  http://bb4sp.com/wp-content/uploads/2016/10/Fu...   \n",
              "2  100percentfedup.com  http://bb4sp.com/wp-content/uploads/2016/10/Fu...   \n",
              "3  100percentfedup.com  http://100percentfedup.com/wp-content/uploads/...   \n",
              "4  100percentfedup.com  http://100percentfedup.com/wp-content/uploads/...   \n",
              "\n",
              "   type  label                            title_without_stopwords  \\\n",
              "0  bias      1        muslims busted stole millions govt benefits   \n",
              "1  bias      1         attorney general loretta lynch plead fifth   \n",
              "2  bias      1  breaking weiner cooperating fbi hillary email ...   \n",
              "3  bias      1  pin drop speech father daughter kidnapped kill...   \n",
              "4  bias      1  fantastic trumps point plan reform healthcare ...   \n",
              "\n",
              "                              text_without_stopwords  hasImage  \n",
              "0  print pay back money plus interest entire fami...       1.0  \n",
              "1  attorney general loretta lynch plead fifth bar...       1.0  \n",
              "2  red state fox news sunday reported morning ant...       1.0  \n",
              "3  email kayla mueller prisoner tortured isis cha...       1.0  \n",
              "4  email healthcare reform make america great sin...       1.0  "
            ],
            "text/html": [
              "\n",
              "  <div id=\"df-b5fcc511-9916-4522-9901-d82d72290943\" class=\"colab-df-container\">\n",
              "    <div>\n",
              "<style scoped>\n",
              "    .dataframe tbody tr th:only-of-type {\n",
              "        vertical-align: middle;\n",
              "    }\n",
              "\n",
              "    .dataframe tbody tr th {\n",
              "        vertical-align: top;\n",
              "    }\n",
              "\n",
              "    .dataframe thead th {\n",
              "        text-align: right;\n",
              "    }\n",
              "</style>\n",
              "<table border=\"1\" class=\"dataframe\">\n",
              "  <thead>\n",
              "    <tr style=\"text-align: right;\">\n",
              "      <th></th>\n",
              "      <th>author</th>\n",
              "      <th>published</th>\n",
              "      <th>title</th>\n",
              "      <th>text</th>\n",
              "      <th>language</th>\n",
              "      <th>site_url</th>\n",
              "      <th>main_img_url</th>\n",
              "      <th>type</th>\n",
              "      <th>label</th>\n",
              "      <th>title_without_stopwords</th>\n",
              "      <th>text_without_stopwords</th>\n",
              "      <th>hasImage</th>\n",
              "    </tr>\n",
              "  </thead>\n",
              "  <tbody>\n",
              "    <tr>\n",
              "      <th>0</th>\n",
              "      <td>Barracuda Brigade</td>\n",
              "      <td>2016-10-26T21:41:00.000+03:00</td>\n",
              "      <td>muslims busted they stole millions in govt ben...</td>\n",
              "      <td>print they should pay all the back all the mon...</td>\n",
              "      <td>english</td>\n",
              "      <td>100percentfedup.com</td>\n",
              "      <td>http://bb4sp.com/wp-content/uploads/2016/10/Fu...</td>\n",
              "      <td>bias</td>\n",
              "      <td>1</td>\n",
              "      <td>muslims busted stole millions govt benefits</td>\n",
              "      <td>print pay back money plus interest entire fami...</td>\n",
              "      <td>1.0</td>\n",
              "    </tr>\n",
              "    <tr>\n",
              "      <th>1</th>\n",
              "      <td>reasoning with facts</td>\n",
              "      <td>2016-10-29T08:47:11.259+03:00</td>\n",
              "      <td>re why did attorney general loretta lynch plea...</td>\n",
              "      <td>why did attorney general loretta lynch plead t...</td>\n",
              "      <td>english</td>\n",
              "      <td>100percentfedup.com</td>\n",
              "      <td>http://bb4sp.com/wp-content/uploads/2016/10/Fu...</td>\n",
              "      <td>bias</td>\n",
              "      <td>1</td>\n",
              "      <td>attorney general loretta lynch plead fifth</td>\n",
              "      <td>attorney general loretta lynch plead fifth bar...</td>\n",
              "      <td>1.0</td>\n",
              "    </tr>\n",
              "    <tr>\n",
              "      <th>2</th>\n",
              "      <td>Barracuda Brigade</td>\n",
              "      <td>2016-10-31T01:41:49.479+02:00</td>\n",
              "      <td>breaking weiner cooperating with fbi on hillar...</td>\n",
              "      <td>red state  \\nfox news sunday reported this mor...</td>\n",
              "      <td>english</td>\n",
              "      <td>100percentfedup.com</td>\n",
              "      <td>http://bb4sp.com/wp-content/uploads/2016/10/Fu...</td>\n",
              "      <td>bias</td>\n",
              "      <td>1</td>\n",
              "      <td>breaking weiner cooperating fbi hillary email ...</td>\n",
              "      <td>red state fox news sunday reported morning ant...</td>\n",
              "      <td>1.0</td>\n",
              "    </tr>\n",
              "    <tr>\n",
              "      <th>3</th>\n",
              "      <td>Fed Up</td>\n",
              "      <td>2016-11-01T05:22:00.000+02:00</td>\n",
              "      <td>pin drop speech by father of daughter kidnappe...</td>\n",
              "      <td>email kayla mueller was a prisoner and torture...</td>\n",
              "      <td>english</td>\n",
              "      <td>100percentfedup.com</td>\n",
              "      <td>http://100percentfedup.com/wp-content/uploads/...</td>\n",
              "      <td>bias</td>\n",
              "      <td>1</td>\n",
              "      <td>pin drop speech father daughter kidnapped kill...</td>\n",
              "      <td>email kayla mueller prisoner tortured isis cha...</td>\n",
              "      <td>1.0</td>\n",
              "    </tr>\n",
              "    <tr>\n",
              "      <th>4</th>\n",
              "      <td>Fed Up</td>\n",
              "      <td>2016-11-01T21:56:00.000+02:00</td>\n",
              "      <td>fantastic trumps  point plan to reform healthc...</td>\n",
              "      <td>email healthcare reform to make america great ...</td>\n",
              "      <td>english</td>\n",
              "      <td>100percentfedup.com</td>\n",
              "      <td>http://100percentfedup.com/wp-content/uploads/...</td>\n",
              "      <td>bias</td>\n",
              "      <td>1</td>\n",
              "      <td>fantastic trumps point plan reform healthcare ...</td>\n",
              "      <td>email healthcare reform make america great sin...</td>\n",
              "      <td>1.0</td>\n",
              "    </tr>\n",
              "  </tbody>\n",
              "</table>\n",
              "</div>\n",
              "    <div class=\"colab-df-buttons\">\n",
              "\n",
              "  <div class=\"colab-df-container\">\n",
              "    <button class=\"colab-df-convert\" onclick=\"convertToInteractive('df-b5fcc511-9916-4522-9901-d82d72290943')\"\n",
              "            title=\"Convert this dataframe to an interactive table.\"\n",
              "            style=\"display:none;\">\n",
              "\n",
              "  <svg xmlns=\"http://www.w3.org/2000/svg\" height=\"24px\" viewBox=\"0 -960 960 960\">\n",
              "    <path d=\"M120-120v-720h720v720H120Zm60-500h600v-160H180v160Zm220 220h160v-160H400v160Zm0 220h160v-160H400v160ZM180-400h160v-160H180v160Zm440 0h160v-160H620v160ZM180-180h160v-160H180v160Zm440 0h160v-160H620v160Z\"/>\n",
              "  </svg>\n",
              "    </button>\n",
              "\n",
              "  <style>\n",
              "    .colab-df-container {\n",
              "      display:flex;\n",
              "      gap: 12px;\n",
              "    }\n",
              "\n",
              "    .colab-df-convert {\n",
              "      background-color: #E8F0FE;\n",
              "      border: none;\n",
              "      border-radius: 50%;\n",
              "      cursor: pointer;\n",
              "      display: none;\n",
              "      fill: #1967D2;\n",
              "      height: 32px;\n",
              "      padding: 0 0 0 0;\n",
              "      width: 32px;\n",
              "    }\n",
              "\n",
              "    .colab-df-convert:hover {\n",
              "      background-color: #E2EBFA;\n",
              "      box-shadow: 0px 1px 2px rgba(60, 64, 67, 0.3), 0px 1px 3px 1px rgba(60, 64, 67, 0.15);\n",
              "      fill: #174EA6;\n",
              "    }\n",
              "\n",
              "    .colab-df-buttons div {\n",
              "      margin-bottom: 4px;\n",
              "    }\n",
              "\n",
              "    [theme=dark] .colab-df-convert {\n",
              "      background-color: #3B4455;\n",
              "      fill: #D2E3FC;\n",
              "    }\n",
              "\n",
              "    [theme=dark] .colab-df-convert:hover {\n",
              "      background-color: #434B5C;\n",
              "      box-shadow: 0px 1px 3px 1px rgba(0, 0, 0, 0.15);\n",
              "      filter: drop-shadow(0px 1px 2px rgba(0, 0, 0, 0.3));\n",
              "      fill: #FFFFFF;\n",
              "    }\n",
              "  </style>\n",
              "\n",
              "    <script>\n",
              "      const buttonEl =\n",
              "        document.querySelector('#df-b5fcc511-9916-4522-9901-d82d72290943 button.colab-df-convert');\n",
              "      buttonEl.style.display =\n",
              "        google.colab.kernel.accessAllowed ? 'block' : 'none';\n",
              "\n",
              "      async function convertToInteractive(key) {\n",
              "        const element = document.querySelector('#df-b5fcc511-9916-4522-9901-d82d72290943');\n",
              "        const dataTable =\n",
              "          await google.colab.kernel.invokeFunction('convertToInteractive',\n",
              "                                                    [key], {});\n",
              "        if (!dataTable) return;\n",
              "\n",
              "        const docLinkHtml = 'Like what you see? Visit the ' +\n",
              "          '<a target=\"_blank\" href=https://colab.research.google.com/notebooks/data_table.ipynb>data table notebook</a>'\n",
              "          + ' to learn more about interactive tables.';\n",
              "        element.innerHTML = '';\n",
              "        dataTable['output_type'] = 'display_data';\n",
              "        await google.colab.output.renderOutput(dataTable, element);\n",
              "        const docLink = document.createElement('div');\n",
              "        docLink.innerHTML = docLinkHtml;\n",
              "        element.appendChild(docLink);\n",
              "      }\n",
              "    </script>\n",
              "  </div>\n",
              "\n",
              "\n",
              "<div id=\"df-2eef0471-7f54-46e9-93a9-1301cd8f3d9d\">\n",
              "  <button class=\"colab-df-quickchart\" onclick=\"quickchart('df-2eef0471-7f54-46e9-93a9-1301cd8f3d9d')\"\n",
              "            title=\"Suggest charts\"\n",
              "            style=\"display:none;\">\n",
              "\n",
              "<svg xmlns=\"http://www.w3.org/2000/svg\" height=\"24px\"viewBox=\"0 0 24 24\"\n",
              "     width=\"24px\">\n",
              "    <g>\n",
              "        <path d=\"M19 3H5c-1.1 0-2 .9-2 2v14c0 1.1.9 2 2 2h14c1.1 0 2-.9 2-2V5c0-1.1-.9-2-2-2zM9 17H7v-7h2v7zm4 0h-2V7h2v10zm4 0h-2v-4h2v4z\"/>\n",
              "    </g>\n",
              "</svg>\n",
              "  </button>\n",
              "\n",
              "<style>\n",
              "  .colab-df-quickchart {\n",
              "      --bg-color: #E8F0FE;\n",
              "      --fill-color: #1967D2;\n",
              "      --hover-bg-color: #E2EBFA;\n",
              "      --hover-fill-color: #174EA6;\n",
              "      --disabled-fill-color: #AAA;\n",
              "      --disabled-bg-color: #DDD;\n",
              "  }\n",
              "\n",
              "  [theme=dark] .colab-df-quickchart {\n",
              "      --bg-color: #3B4455;\n",
              "      --fill-color: #D2E3FC;\n",
              "      --hover-bg-color: #434B5C;\n",
              "      --hover-fill-color: #FFFFFF;\n",
              "      --disabled-bg-color: #3B4455;\n",
              "      --disabled-fill-color: #666;\n",
              "  }\n",
              "\n",
              "  .colab-df-quickchart {\n",
              "    background-color: var(--bg-color);\n",
              "    border: none;\n",
              "    border-radius: 50%;\n",
              "    cursor: pointer;\n",
              "    display: none;\n",
              "    fill: var(--fill-color);\n",
              "    height: 32px;\n",
              "    padding: 0;\n",
              "    width: 32px;\n",
              "  }\n",
              "\n",
              "  .colab-df-quickchart:hover {\n",
              "    background-color: var(--hover-bg-color);\n",
              "    box-shadow: 0 1px 2px rgba(60, 64, 67, 0.3), 0 1px 3px 1px rgba(60, 64, 67, 0.15);\n",
              "    fill: var(--button-hover-fill-color);\n",
              "  }\n",
              "\n",
              "  .colab-df-quickchart-complete:disabled,\n",
              "  .colab-df-quickchart-complete:disabled:hover {\n",
              "    background-color: var(--disabled-bg-color);\n",
              "    fill: var(--disabled-fill-color);\n",
              "    box-shadow: none;\n",
              "  }\n",
              "\n",
              "  .colab-df-spinner {\n",
              "    border: 2px solid var(--fill-color);\n",
              "    border-color: transparent;\n",
              "    border-bottom-color: var(--fill-color);\n",
              "    animation:\n",
              "      spin 1s steps(1) infinite;\n",
              "  }\n",
              "\n",
              "  @keyframes spin {\n",
              "    0% {\n",
              "      border-color: transparent;\n",
              "      border-bottom-color: var(--fill-color);\n",
              "      border-left-color: var(--fill-color);\n",
              "    }\n",
              "    20% {\n",
              "      border-color: transparent;\n",
              "      border-left-color: var(--fill-color);\n",
              "      border-top-color: var(--fill-color);\n",
              "    }\n",
              "    30% {\n",
              "      border-color: transparent;\n",
              "      border-left-color: var(--fill-color);\n",
              "      border-top-color: var(--fill-color);\n",
              "      border-right-color: var(--fill-color);\n",
              "    }\n",
              "    40% {\n",
              "      border-color: transparent;\n",
              "      border-right-color: var(--fill-color);\n",
              "      border-top-color: var(--fill-color);\n",
              "    }\n",
              "    60% {\n",
              "      border-color: transparent;\n",
              "      border-right-color: var(--fill-color);\n",
              "    }\n",
              "    80% {\n",
              "      border-color: transparent;\n",
              "      border-right-color: var(--fill-color);\n",
              "      border-bottom-color: var(--fill-color);\n",
              "    }\n",
              "    90% {\n",
              "      border-color: transparent;\n",
              "      border-bottom-color: var(--fill-color);\n",
              "    }\n",
              "  }\n",
              "</style>\n",
              "\n",
              "  <script>\n",
              "    async function quickchart(key) {\n",
              "      const quickchartButtonEl =\n",
              "        document.querySelector('#' + key + ' button');\n",
              "      quickchartButtonEl.disabled = true;  // To prevent multiple clicks.\n",
              "      quickchartButtonEl.classList.add('colab-df-spinner');\n",
              "      try {\n",
              "        const charts = await google.colab.kernel.invokeFunction(\n",
              "            'suggestCharts', [key], {});\n",
              "      } catch (error) {\n",
              "        console.error('Error during call to suggestCharts:', error);\n",
              "      }\n",
              "      quickchartButtonEl.classList.remove('colab-df-spinner');\n",
              "      quickchartButtonEl.classList.add('colab-df-quickchart-complete');\n",
              "    }\n",
              "    (() => {\n",
              "      let quickchartButtonEl =\n",
              "        document.querySelector('#df-2eef0471-7f54-46e9-93a9-1301cd8f3d9d button');\n",
              "      quickchartButtonEl.style.display =\n",
              "        google.colab.kernel.accessAllowed ? 'block' : 'none';\n",
              "    })();\n",
              "  </script>\n",
              "</div>\n",
              "\n",
              "    </div>\n",
              "  </div>\n"
            ],
            "application/vnd.google.colaboratory.intrinsic+json": {
              "type": "dataframe",
              "variable_name": "df",
              "summary": "{\n  \"name\": \"df\",\n  \"rows\": 1972,\n  \"fields\": [\n    {\n      \"column\": \"author\",\n      \"properties\": {\n        \"dtype\": \"category\",\n        \"num_unique_values\": 483,\n        \"samples\": [\n          \"Steve Lewis\",\n          \"Bill Federer\",\n          \"Dr. Majid Rafizadeh\"\n        ],\n        \"semantic_type\": \"\",\n        \"description\": \"\"\n      }\n    },\n    {\n      \"column\": \"published\",\n      \"properties\": {\n        \"dtype\": \"string\",\n        \"num_unique_values\": 1882,\n        \"samples\": [\n          \"2016-10-27T17:30:23.655+03:00\",\n          \"2016-10-27T17:45:32.062+03:00\",\n          \"2016-10-27T16:16:44.636+03:00\"\n        ],\n        \"semantic_type\": \"\",\n        \"description\": \"\"\n      }\n    },\n    {\n      \"column\": \"title\",\n      \"properties\": {\n        \"dtype\": \"string\",\n        \"num_unique_values\": 1691,\n        \"samples\": [\n          \"trump and his supporters are fighting a rigged system\",\n          \"los brics plantan cara a la guerra financiera de estados unidos por ariel noyola rodr\\u00edguez\",\n          \"misogynist donald trump is hemorrhaging evangelical women voters\"\n        ],\n        \"semantic_type\": \"\",\n        \"description\": \"\"\n      }\n    },\n    {\n      \"column\": \"text\",\n      \"properties\": {\n        \"dtype\": \"string\",\n        \"num_unique_values\": 1863,\n        \"samples\": [\n          \"by whitney webb \\nover the course of this years us presidential election which has been nothing if not bizarre some have repeatedly speculated that the election may not actually happen at all if an opportunely timed terrorist attack or other major event occurred at just the right moment leading to a suspension of the november election now these theories appear to have more credence as sources within us intelligence have contacted pat milton a cbs news senior investigative producer warning him that terrorist attacks in three us states are highly likely come this monday the day before the us election us intelligence has allegedly alerted joint terrorism task forces that al qaeda not isis could be planning attacks in new york texas and virginia no specific locations within those three states were mentioned \\nus authorities are said to be taking the threat seriously though cbs news  sources stress that the threat is still being assessed and its credibility has yet to be confirmed according to cbs  counterterrorism officials were alerted to the threat out of an abundance of caution \\nearlier this week there were also warnings that polling places could be seen as attractive targets for lone wolf attackers by individuals motivated by violent extremist ideologies sovereign citizen or other extremist activity this has led federal law enforcement to plan for several worstcase scenarios one fbi official told cbs  \\nthe counterterrorism and homeland security communities remain vigilant and wellpostured to defend against attacks here in the united states the fbi working with our federal state and local counterparts shares and assesses intelligence on a daily basis and will continue to work closely with law enforcement and intelligence community partners to identify and disrupt any potential threat to public safety \\nhowever whats interesting here is that the terror threat is coming from al qaeda as opposed to the islamic state in the syrian civil war the us has been actively helping al qaeda there grouping their syrian branch  the al nusra front  in with the moderate rebels they support therefore al qaedas ability to launch attacks within the us has been directly aided by us intelligence making this announcement incredibly suspect \\nits also worth pointing out that al qaeda since its inception has been a product of the us intelligence community in the s they were essentially created by the us to fight the soviets in afghanistan ever since they have conveniently been used as the justification for an expansion of us wars abroad and the elimination of civil liberties domestically \\nit is also interesting that the threat is al qaeda and not the islamic state the islamic state has been the terrorist bogeyman of recent years and their involvement in any threat real or imagined is useful justification for escalating us involvement in syria it seems highly likely that the islamic state was left out due to recent revelations from wikileaks showing that their funding comes from the very same entities that donate millions to the clinton foundation \\nit is also worth noting that if a terrorist attack does come to pass it will be a big help for hillary hillary has been under siege in recent weeks due to wikileaks near constant releases of her campaign chairs emails but also due to the fbis mutiny which led them to reopen a probe into clintons use of a private email server any terror attack would give clinton the opportunity to gain political ground by promoting her aggressive foreign policy aims in syria and the rest of the middle east \\nhowever as mentioned at the beginning of this article it is also possible that a terrorist attack on us soil would give president obama the authority to either postpone or outright cancel the election something he could not normally do except in the event of extraordinary circumstances unfortunately only time will tell which theory is correct compelling us to stay vigilant in the meantime \\nwhat are your thoughts please comment below and share this news\",\n          \"email lets make sure to keep this a conversation about my photography skills not a debate on whether or not weve been visited by aliens  so really all im looking for feedbackwise is if im grasping the fundamentals of photography on this one can we ignore that theres clearly a ufo of some sort in the sky i didnt know it was there and it wasnt supposed to be in the picture i already know the spaceship is there its not constructive for you to tell me again do all the lines in the photo draw your eye to the middle is there clear depth with the mountains in the distance any advice would be great and again please ignore the apparent spaceship that again was not supposed to be in this photo  in this image i was trying to frame it correctly for twopoint perspective i think you can pretty much tell that the barn has two vanishing points and in my opinion this is pretty good for a newbie id definitely like some tips for the future though to make an image like this more interesting to look at other than the fact that theres what appears to be an intergalactic vessel in the sky above it  i dont know where the lights in this photo came from so whether or not they are earthly is completely irrelevant personally i think my camera was just malfunctioning since i certainly dont remember them being present while i was taking this and night photography can be strange with such long exposures so things can get weird okay now that weve discussed the elephant in the room lets talk about symmetry in this image since thats what i was going for any thoughts  if one more person tells me that ive taken the most important photo in human history and doesnt have any input on if there is too much headroom above the mountains or if i used a long enough lens i am going to scream  okay i admit that the ufo is what really drew me into composing this image that being said lets talk about how it fits into the photograph not the fact that i actually captured it is it a good picture possibly did i use the rule of thirds successfully i sure hope so is it proof that we arent alone in the universe well one amateurs photo isnt going to prove or disprove that\",\n          \"the letter from fbi director comey announcing the reopening of the clinton email investigation is already being blown up into more than it is \\nhere is the letter via cnns jake tapper fbi dir comey letter to congressional committee chairs re discovery of new emailspertinent to the investigation pictwittercomygvhiilln \\n jake tapper jaketapper october   \\nas republicans cheer because they think that they have been thrown an election lifeline read the whole letter and look at what it says the letter does not say that hillary clinton did anything wrong the letter states that emails were found that were pertinent to the email investigation while looking into an unrelated matter \\nthe letter fbi director comey reads like what it is an update on an investigation the fbi is dotting the is and crossing the ts comeys letter destroys the republican claim that there was a conspiracy to cover up clintons emails republicans including donald trump have spent months criticizing comeys investigation but it turns out that they were wrong \\nit would take something unprecedented and dramatic to change the fbis original findings director comey made it clear that the agencys work might not be completed before the election \\nthe email story that republicans and the media love but voters have never cared about is back in the news but it remains an empty scandal \\nthe fbis reopened investigation does open the door for republicans to continue their bogus witch hunt if hillary clinton wins the white house unless voters want two more years of conspiracy investigations instead of action todays developments have made voting for democrats in house and senate contests more vital than ever\"\n        ],\n        \"semantic_type\": \"\",\n        \"description\": \"\"\n      }\n    },\n    {\n      \"column\": \"language\",\n      \"properties\": {\n        \"dtype\": \"category\",\n        \"num_unique_values\": 1,\n        \"samples\": [\n          \"english\"\n        ],\n        \"semantic_type\": \"\",\n        \"description\": \"\"\n      }\n    },\n    {\n      \"column\": \"site_url\",\n      \"properties\": {\n        \"dtype\": \"category\",\n        \"num_unique_values\": 66,\n        \"samples\": [\n          \"thepeoplescube.com\"\n        ],\n        \"semantic_type\": \"\",\n        \"description\": \"\"\n      }\n    },\n    {\n      \"column\": \"main_img_url\",\n      \"properties\": {\n        \"dtype\": \"string\",\n        \"num_unique_values\": 1114,\n        \"samples\": [\n          \"http://15130-presscdn-0-89.pagely.netdna-cdn.com/wp-content/uploads/2016/08/clinton-trump-3.jpg\"\n        ],\n        \"semantic_type\": \"\",\n        \"description\": \"\"\n      }\n    },\n    {\n      \"column\": \"type\",\n      \"properties\": {\n        \"dtype\": \"category\",\n        \"num_unique_values\": 8,\n        \"samples\": [\n          \"conspiracy\"\n        ],\n        \"semantic_type\": \"\",\n        \"description\": \"\"\n      }\n    },\n    {\n      \"column\": \"label\",\n      \"properties\": {\n        \"dtype\": \"number\",\n        \"std\": 0,\n        \"min\": 0,\n        \"max\": 1,\n        \"num_unique_values\": 2,\n        \"samples\": [\n          0\n        ],\n        \"semantic_type\": \"\",\n        \"description\": \"\"\n      }\n    },\n    {\n      \"column\": \"title_without_stopwords\",\n      \"properties\": {\n        \"dtype\": \"string\",\n        \"num_unique_values\": 1686,\n        \"samples\": [\n          \"go back claim home kansas lawmaker tells protester\"\n        ],\n        \"semantic_type\": \"\",\n        \"description\": \"\"\n      }\n    },\n    {\n      \"column\": \"text_without_stopwords\",\n      \"properties\": {\n        \"dtype\": \"string\",\n        \"num_unique_values\": 1861,\n        \"samples\": [\n          \"whitney webb course years us presidential election nothing bizarre repeatedly speculated election may actually happen opportunely timed terrorist attack major event occurred right moment leading suspension november election theories appear credence sources within us intelligence contacted pat milton cbs news senior investigative producer warning terrorist attacks three us states highly likely come monday day us election us intelligence allegedly alerted joint terrorism task forces al qaeda isis could planning attacks new york texas virginia specific locations within three states mentioned us authorities said taking threat seriously though cbs news sources stress threat still assessed credibility yet confirmed according cbs counterterrorism officials alerted threat abundance caution earlier week also warnings polling places could seen attractive targets lone wolf attackers individuals motivated violent extremist ideologies sovereign citizen extremist activity led federal law enforcement plan several worstcase scenarios one fbi official told cbs counterterrorism homeland security communities remain vigilant wellpostured defend attacks united states fbi working federal state local counterparts shares assesses intelligence daily basis continue work closely law enforcement intelligence community partners identify disrupt potential threat public safety however whats interesting terror threat coming al qaeda opposed islamic state syrian civil war us actively helping al qaeda grouping syrian branch al nusra front moderate rebels support therefore al qaedas ability launch attacks within us directly aided us intelligence making announcement incredibly suspect also worth pointing al qaeda since inception product us intelligence community essentially created us fight soviets afghanistan ever since conveniently used justification expansion us wars abroad elimination civil liberties domestically also interesting threat al qaeda islamic state islamic state terrorist bogeyman recent years involvement threat real imagined useful justification escalating us involvement syria seems highly likely islamic state left due recent revelations wikileaks showing funding comes entities donate millions clinton foundation also worth noting terrorist attack come pass big help hillary hillary siege recent weeks due wikileaks near constant releases campaign chairs emails also due fbis mutiny led reopen probe clintons use private email server terror attack would give clinton opportunity gain political ground promoting aggressive foreign policy aims syria rest middle east however mentioned beginning article also possible terrorist attack us soil would give president obama authority either postpone outright cancel election something could normally except event extraordinary circumstances unfortunately time tell theory correct compelling us stay vigilant meantime thoughts please comment share news\"\n        ],\n        \"semantic_type\": \"\",\n        \"description\": \"\"\n      }\n    },\n    {\n      \"column\": \"hasImage\",\n      \"properties\": {\n        \"dtype\": \"number\",\n        \"std\": 0.42429009526204564,\n        \"min\": 0.0,\n        \"max\": 1.0,\n        \"num_unique_values\": 2,\n        \"samples\": [\n          0.0\n        ],\n        \"semantic_type\": \"\",\n        \"description\": \"\"\n      }\n    }\n  ]\n}"
            }
          },
          "metadata": {},
          "execution_count": 18
        }
      ]
    },
    {
      "cell_type": "code",
      "source": [
        "# prompt: using nltk, create a function to remove stopwords and clean the text data in text column\n",
        "\n",
        "import nltk\n",
        "nltk.download('stopwords')\n",
        "nltk.download('punkt')\n",
        "from nltk.corpus import stopwords\n",
        "from nltk.tokenize import word_tokenize\n",
        "\n",
        "def clean_text(text):\n",
        "  stop_words = set(stopwords.words('english'))\n",
        "  words = word_tokenize(text)\n",
        "  filtered_text = [word for word in words if word.lower() not in stop_words]\n",
        "  return ' '.join(filtered_text)\n",
        "\n",
        "df['text'] = df['text'].apply(clean_text)"
      ],
      "metadata": {
        "colab": {
          "base_uri": "https://localhost:8080/"
        },
        "id": "2hLabK_PJ7zV",
        "outputId": "d3837fe9-9b93-4ac2-8768-97e989dadfc0"
      },
      "execution_count": null,
      "outputs": [
        {
          "output_type": "stream",
          "name": "stderr",
          "text": [
            "[nltk_data] Downloading package stopwords to /root/nltk_data...\n",
            "[nltk_data]   Unzipping corpora/stopwords.zip.\n",
            "[nltk_data] Downloading package punkt to /root/nltk_data...\n",
            "[nltk_data]   Unzipping tokenizers/punkt.zip.\n"
          ]
        }
      ]
    },
    {
      "cell_type": "markdown",
      "source": [
        "# Feature Engineering"
      ],
      "metadata": {
        "id": "bmYrHRynCOwR"
      }
    },
    {
      "cell_type": "code",
      "source": [
        "target = df.label\n",
        "features = df[['author','site_url','text',\"title\"]]"
      ],
      "metadata": {
        "id": "Uz4TsWcDNyzQ"
      },
      "execution_count": null,
      "outputs": []
    },
    {
      "cell_type": "code",
      "source": [
        "features['combined_text'] = features[\"author\"]+\" \"+features[\"site_url\"] + \" \" + features[\"text\"]+\" \"+features[\"title\"]\n",
        "features.drop(['author','site_url', 'text',\"title\"], axis = 1, inplace = True)\n",
        "features=features.combined_text"
      ],
      "metadata": {
        "id": "xllhcx_nPnlW",
        "colab": {
          "base_uri": "https://localhost:8080/"
        },
        "outputId": "d0548a65-aab1-49e7-fec3-51bfc7ffe175"
      },
      "execution_count": null,
      "outputs": [
        {
          "output_type": "stream",
          "name": "stderr",
          "text": [
            "<ipython-input-21-98e5e4b2ed77>:1: SettingWithCopyWarning: \n",
            "A value is trying to be set on a copy of a slice from a DataFrame.\n",
            "Try using .loc[row_indexer,col_indexer] = value instead\n",
            "\n",
            "See the caveats in the documentation: https://pandas.pydata.org/pandas-docs/stable/user_guide/indexing.html#returning-a-view-versus-a-copy\n",
            "  features['combined_text'] = features[\"author\"]+\" \"+features[\"site_url\"] + \" \" + features[\"text\"]+\" \"+features[\"title\"]\n",
            "<ipython-input-21-98e5e4b2ed77>:2: SettingWithCopyWarning: \n",
            "A value is trying to be set on a copy of a slice from a DataFrame\n",
            "\n",
            "See the caveats in the documentation: https://pandas.pydata.org/pandas-docs/stable/user_guide/indexing.html#returning-a-view-versus-a-copy\n",
            "  features.drop(['author','site_url', 'text',\"title\"], axis = 1, inplace = True)\n"
          ]
        }
      ]
    },
    {
      "cell_type": "code",
      "source": [
        "features"
      ],
      "metadata": {
        "colab": {
          "base_uri": "https://localhost:8080/"
        },
        "id": "Qh8VhYT3rmpd",
        "outputId": "8bd54259-3d9f-46ef-8c64-bffcd9b96554"
      },
      "execution_count": null,
      "outputs": [
        {
          "output_type": "execute_result",
          "data": {
            "text/plain": [
              "0       Barracuda Brigade 100percentfedup.com print pa...\n",
              "1       reasoning with facts 100percentfedup.com attor...\n",
              "2       Barracuda Brigade 100percentfedup.com red stat...\n",
              "3       Fed Up 100percentfedup.com email kayla mueller...\n",
              "4       Fed Up 100percentfedup.com email healthcare re...\n",
              "                              ...                        \n",
              "2045    Larry Elder wnd.com check hillarythemed haunte...\n",
              "2046    -NO AUTHOR- wnd.com good samaritan wearing ind...\n",
              "2047    Jerome R. Corsi wnd.com skype sex scam fortune...\n",
              "2048    Leo Hohmann wnd.com posted eddie skyhigh poten...\n",
              "2049    -NO AUTHOR- wnd.com billion even known keeping...\n",
              "Name: combined_text, Length: 1972, dtype: object"
            ]
          },
          "metadata": {},
          "execution_count": 22
        }
      ]
    },
    {
      "cell_type": "markdown",
      "source": [
        "# Modelling"
      ],
      "metadata": {
        "id": "QxNWLTFSRTYD"
      }
    },
    {
      "cell_type": "code",
      "source": [
        "#using the Vectorizer before doing the classification\n",
        "from sklearn.feature_extraction.text import TfidfVectorizer\n",
        "from sklearn.model_selection import train_test_split\n",
        "\n",
        "X_train,X_test,y_train,y_test = train_test_split(features,target,test_size=0.20)\n",
        "\n",
        "vectorizer = TfidfVectorizer()\n",
        "transformed_train = vectorizer.fit_transform(X_train)\n",
        "transformed_test = vectorizer.transform(X_test)\n"
      ],
      "metadata": {
        "id": "l_axKOi9QdH8"
      },
      "execution_count": null,
      "outputs": []
    },
    {
      "cell_type": "markdown",
      "source": [
        "Ariel SVM"
      ],
      "metadata": {
        "id": "KXHTN3B5OhN1"
      }
    },
    {
      "cell_type": "code",
      "source": [
        "# Ariel SVM\n",
        "\n",
        "from sklearn.svm import SVC\n",
        "classifier = SVC(kernel='linear', C=10, random_state=0)\n",
        "classifier.fit(transformed_train, y_train)"
      ],
      "metadata": {
        "colab": {
          "base_uri": "https://localhost:8080/",
          "height": 75
        },
        "id": "SPFTCibxRQfF",
        "outputId": "02033b42-511c-444d-946d-ca09b676196c"
      },
      "execution_count": null,
      "outputs": [
        {
          "output_type": "execute_result",
          "data": {
            "text/plain": [
              "SVC(C=10, kernel='linear', random_state=0)"
            ],
            "text/html": [
              "<style>#sk-container-id-1 {color: black;background-color: white;}#sk-container-id-1 pre{padding: 0;}#sk-container-id-1 div.sk-toggleable {background-color: white;}#sk-container-id-1 label.sk-toggleable__label {cursor: pointer;display: block;width: 100%;margin-bottom: 0;padding: 0.3em;box-sizing: border-box;text-align: center;}#sk-container-id-1 label.sk-toggleable__label-arrow:before {content: \"▸\";float: left;margin-right: 0.25em;color: #696969;}#sk-container-id-1 label.sk-toggleable__label-arrow:hover:before {color: black;}#sk-container-id-1 div.sk-estimator:hover label.sk-toggleable__label-arrow:before {color: black;}#sk-container-id-1 div.sk-toggleable__content {max-height: 0;max-width: 0;overflow: hidden;text-align: left;background-color: #f0f8ff;}#sk-container-id-1 div.sk-toggleable__content pre {margin: 0.2em;color: black;border-radius: 0.25em;background-color: #f0f8ff;}#sk-container-id-1 input.sk-toggleable__control:checked~div.sk-toggleable__content {max-height: 200px;max-width: 100%;overflow: auto;}#sk-container-id-1 input.sk-toggleable__control:checked~label.sk-toggleable__label-arrow:before {content: \"▾\";}#sk-container-id-1 div.sk-estimator input.sk-toggleable__control:checked~label.sk-toggleable__label {background-color: #d4ebff;}#sk-container-id-1 div.sk-label input.sk-toggleable__control:checked~label.sk-toggleable__label {background-color: #d4ebff;}#sk-container-id-1 input.sk-hidden--visually {border: 0;clip: rect(1px 1px 1px 1px);clip: rect(1px, 1px, 1px, 1px);height: 1px;margin: -1px;overflow: hidden;padding: 0;position: absolute;width: 1px;}#sk-container-id-1 div.sk-estimator {font-family: monospace;background-color: #f0f8ff;border: 1px dotted black;border-radius: 0.25em;box-sizing: border-box;margin-bottom: 0.5em;}#sk-container-id-1 div.sk-estimator:hover {background-color: #d4ebff;}#sk-container-id-1 div.sk-parallel-item::after {content: \"\";width: 100%;border-bottom: 1px solid gray;flex-grow: 1;}#sk-container-id-1 div.sk-label:hover label.sk-toggleable__label {background-color: #d4ebff;}#sk-container-id-1 div.sk-serial::before {content: \"\";position: absolute;border-left: 1px solid gray;box-sizing: border-box;top: 0;bottom: 0;left: 50%;z-index: 0;}#sk-container-id-1 div.sk-serial {display: flex;flex-direction: column;align-items: center;background-color: white;padding-right: 0.2em;padding-left: 0.2em;position: relative;}#sk-container-id-1 div.sk-item {position: relative;z-index: 1;}#sk-container-id-1 div.sk-parallel {display: flex;align-items: stretch;justify-content: center;background-color: white;position: relative;}#sk-container-id-1 div.sk-item::before, #sk-container-id-1 div.sk-parallel-item::before {content: \"\";position: absolute;border-left: 1px solid gray;box-sizing: border-box;top: 0;bottom: 0;left: 50%;z-index: -1;}#sk-container-id-1 div.sk-parallel-item {display: flex;flex-direction: column;z-index: 1;position: relative;background-color: white;}#sk-container-id-1 div.sk-parallel-item:first-child::after {align-self: flex-end;width: 50%;}#sk-container-id-1 div.sk-parallel-item:last-child::after {align-self: flex-start;width: 50%;}#sk-container-id-1 div.sk-parallel-item:only-child::after {width: 0;}#sk-container-id-1 div.sk-dashed-wrapped {border: 1px dashed gray;margin: 0 0.4em 0.5em 0.4em;box-sizing: border-box;padding-bottom: 0.4em;background-color: white;}#sk-container-id-1 div.sk-label label {font-family: monospace;font-weight: bold;display: inline-block;line-height: 1.2em;}#sk-container-id-1 div.sk-label-container {text-align: center;}#sk-container-id-1 div.sk-container {/* jupyter's `normalize.less` sets `[hidden] { display: none; }` but bootstrap.min.css set `[hidden] { display: none !important; }` so we also need the `!important` here to be able to override the default hidden behavior on the sphinx rendered scikit-learn.org. See: https://github.com/scikit-learn/scikit-learn/issues/21755 */display: inline-block !important;position: relative;}#sk-container-id-1 div.sk-text-repr-fallback {display: none;}</style><div id=\"sk-container-id-1\" class=\"sk-top-container\"><div class=\"sk-text-repr-fallback\"><pre>SVC(C=10, kernel=&#x27;linear&#x27;, random_state=0)</pre><b>In a Jupyter environment, please rerun this cell to show the HTML representation or trust the notebook. <br />On GitHub, the HTML representation is unable to render, please try loading this page with nbviewer.org.</b></div><div class=\"sk-container\" hidden><div class=\"sk-item\"><div class=\"sk-estimator sk-toggleable\"><input class=\"sk-toggleable__control sk-hidden--visually\" id=\"sk-estimator-id-1\" type=\"checkbox\" checked><label for=\"sk-estimator-id-1\" class=\"sk-toggleable__label sk-toggleable__label-arrow\">SVC</label><div class=\"sk-toggleable__content\"><pre>SVC(C=10, kernel=&#x27;linear&#x27;, random_state=0)</pre></div></div></div></div></div>"
            ]
          },
          "metadata": {},
          "execution_count": 24
        }
      ]
    },
    {
      "cell_type": "code",
      "source": [
        "# prompt: evaluate the model accuracy\n",
        "\n",
        "y_pred = classifier.predict(transformed_test)\n",
        "\n",
        "from sklearn.metrics import accuracy_score\n",
        "accuracy = accuracy_score(y_test, y_pred)\n",
        "\n",
        "print(\"Accuracy:\", accuracy * 100, \"%\")\n"
      ],
      "metadata": {
        "colab": {
          "base_uri": "https://localhost:8080/"
        },
        "id": "3GRVHbilSQnA",
        "outputId": "5f64d526-1390-4e4a-a17d-380247593963"
      },
      "execution_count": null,
      "outputs": [
        {
          "output_type": "stream",
          "name": "stdout",
          "text": [
            "Accuracy: 89.1139240506329 %\n"
          ]
        }
      ]
    },
    {
      "cell_type": "code",
      "source": [
        "# prompt: create the confusion matrix\n",
        "\n",
        "from sklearn.metrics import confusion_matrix\n",
        "\n",
        "# Create the confusion matrix\n",
        "cm = confusion_matrix(y_test, y_pred)\n",
        "\n",
        "# Print the confusion matrix\n",
        "print(cm)\n"
      ],
      "metadata": {
        "colab": {
          "base_uri": "https://localhost:8080/"
        },
        "id": "h2yG_kyuSk6M",
        "outputId": "1c9209d9-7aca-4e7a-ef3f-b7ece4510fbe"
      },
      "execution_count": null,
      "outputs": [
        {
          "output_type": "stream",
          "name": "stdout",
          "text": [
            "[[243  13]\n",
            " [ 30 109]]\n"
          ]
        }
      ]
    },
    {
      "cell_type": "code",
      "source": [
        "# prompt: now i want to do the classification report\n",
        "\n",
        "from sklearn.metrics import classification_report\n",
        "\n",
        "# Generate the classification report\n",
        "report = classification_report(y_test, y_pred)\n",
        "\n",
        "# Print the classification report\n",
        "print(report)\n"
      ],
      "metadata": {
        "colab": {
          "base_uri": "https://localhost:8080/"
        },
        "id": "5f0P8R6hIbrr",
        "outputId": "d91005ae-abc3-4544-8cc5-c1bec56548fd"
      },
      "execution_count": null,
      "outputs": [
        {
          "output_type": "stream",
          "name": "stdout",
          "text": [
            "              precision    recall  f1-score   support\n",
            "\n",
            "           0       0.89      0.95      0.92       256\n",
            "           1       0.89      0.78      0.84       139\n",
            "\n",
            "    accuracy                           0.89       395\n",
            "   macro avg       0.89      0.87      0.88       395\n",
            "weighted avg       0.89      0.89      0.89       395\n",
            "\n"
          ]
        }
      ]
    },
    {
      "cell_type": "markdown",
      "source": [
        "Nathaniel Naive Bayes"
      ],
      "metadata": {
        "id": "ESAOjekxOjOY"
      }
    },
    {
      "cell_type": "code",
      "source": [
        "from sklearn.naive_bayes import MultinomialNB\n",
        "\n",
        "# Training the Naive Bayes classifier\n",
        "nb_classifier = MultinomialNB(alpha=0.1)\n",
        "nb_classifier.fit(transformed_train, y_train)\n",
        "\n",
        "# Predictions\n",
        "predictions = nb_classifier.predict(transformed_test)\n",
        "\n",
        "# Evaluating the model\n",
        "print(\"Accuracy:\", accuracy_score(y_test, predictions))\n",
        "print(\"Confusion Matrix:\\n\", confusion_matrix(y_test, predictions))\n",
        "print(\"Classification Report:\\n\", classification_report(y_test, predictions))"
      ],
      "metadata": {
        "id": "Z56IRYs4fDuZ",
        "colab": {
          "base_uri": "https://localhost:8080/"
        },
        "outputId": "2271eb8b-bea7-4655-994f-648d57d7c1fa"
      },
      "execution_count": null,
      "outputs": [
        {
          "output_type": "stream",
          "name": "stdout",
          "text": [
            "Accuracy: 0.830379746835443\n",
            "Confusion Matrix:\n",
            " [[244  12]\n",
            " [ 55  84]]\n",
            "Classification Report:\n",
            "               precision    recall  f1-score   support\n",
            "\n",
            "           0       0.82      0.95      0.88       256\n",
            "           1       0.88      0.60      0.71       139\n",
            "\n",
            "    accuracy                           0.83       395\n",
            "   macro avg       0.85      0.78      0.80       395\n",
            "weighted avg       0.84      0.83      0.82       395\n",
            "\n"
          ]
        }
      ]
    },
    {
      "cell_type": "markdown",
      "source": [
        "Bernard"
      ],
      "metadata": {
        "id": "pB-eCGUkOn_6"
      }
    },
    {
      "cell_type": "code",
      "source": [
        "from sklearn.tree import DecisionTreeClassifier\n",
        "\n",
        "# Create a decision tree classifier object\n",
        "tree = DecisionTreeClassifier(criterion=\"entropy\", max_depth=10)\n",
        "\n",
        "# Train the model on the training data\n",
        "tree.fit(transformed_train, y_train)\n",
        "\n",
        "# Evaluate model performance\n",
        "y_preds = tree.predict(transformed_test)\n",
        "accuracy = accuracy_score(y_test, y_preds)\n",
        "print(\"Accuracy:\", accuracy * 100, \"%\")"
      ],
      "metadata": {
        "id": "iCN3SV54dvCc",
        "colab": {
          "base_uri": "https://localhost:8080/"
        },
        "outputId": "4bd7316c-5603-4bac-87a4-8b4cfde59eaf"
      },
      "execution_count": null,
      "outputs": [
        {
          "output_type": "stream",
          "name": "stdout",
          "text": [
            "Accuracy: 99.24050632911391 %\n"
          ]
        }
      ]
    },
    {
      "cell_type": "code",
      "source": [
        "# Create the confusion matrix\n",
        "cm = confusion_matrix(y_test, y_preds)\n",
        "\n",
        "# Print the confusion matrix\n",
        "print(cm)"
      ],
      "metadata": {
        "colab": {
          "base_uri": "https://localhost:8080/"
        },
        "id": "Dnt6PMviS5hm",
        "outputId": "5a6c5784-0180-4c7e-aae6-06b7a42015c7"
      },
      "execution_count": null,
      "outputs": [
        {
          "output_type": "stream",
          "name": "stdout",
          "text": [
            "[[254   2]\n",
            " [  1 138]]\n"
          ]
        }
      ]
    },
    {
      "cell_type": "code",
      "source": [
        "# Generate the classification report\n",
        "report = classification_report(y_test, y_preds)\n",
        "\n",
        "# Print the classification report\n",
        "print(report)"
      ],
      "metadata": {
        "colab": {
          "base_uri": "https://localhost:8080/"
        },
        "id": "YtNx7caCS3iF",
        "outputId": "6899bd87-c6e3-4247-ba54-8fa0b042527b"
      },
      "execution_count": null,
      "outputs": [
        {
          "output_type": "stream",
          "name": "stdout",
          "text": [
            "              precision    recall  f1-score   support\n",
            "\n",
            "           0       1.00      0.99      0.99       256\n",
            "           1       0.99      0.99      0.99       139\n",
            "\n",
            "    accuracy                           0.99       395\n",
            "   macro avg       0.99      0.99      0.99       395\n",
            "weighted avg       0.99      0.99      0.99       395\n",
            "\n"
          ]
        }
      ]
    },
    {
      "cell_type": "code",
      "source": [
        "# evaluate decision tree performance on train and test sets with different tree depths\n",
        "from sklearn.datasets import make_classification\n",
        "from sklearn.model_selection import train_test_split\n",
        "from sklearn.metrics import accuracy_score\n",
        "from sklearn.tree import DecisionTreeClassifier\n",
        "from matplotlib import pyplot\n",
        "\n",
        "\n",
        "train_scores, test_scores = list(), list()\n",
        "# define the tree depths to evaluate\n",
        "values = [i for i in range(1, 21)]\n",
        "# evaluate a decision tree for each depth\n",
        "for i in values:\n",
        "\t# configure the model\n",
        "\tmodel = DecisionTreeClassifier(criterion = \"entropy\", max_depth=i)\n",
        "\t# fit model on the training dataset\n",
        "\tmodel.fit(transformed_train, y_train)\n",
        "\t# evaluate on the train dataset\n",
        "\ttrain_yhat = model.predict(transformed_train)\n",
        "\ttrain_acc = accuracy_score(y_train, train_yhat)\n",
        "\ttrain_scores.append(train_acc)\n",
        "\t# evaluate on the test dataset\n",
        "\ttest_yhat = model.predict(transformed_test)\n",
        "\ttest_acc = accuracy_score(y_test, test_yhat)\n",
        "\ttest_scores.append(test_acc)\n",
        "\t# summarize progress\n",
        "\tprint('>%d, train: %.3f, test: %.3f' % (i, train_acc, test_acc))\n",
        "# plot of train and test scores vs tree depth\n",
        "pyplot.plot(values, train_scores, '-o', label='Train')\n",
        "pyplot.plot(values, test_scores, '-o', label='Test')\n",
        "pyplot.legend()\n",
        "pyplot.show()"
      ],
      "metadata": {
        "colab": {
          "base_uri": "https://localhost:8080/",
          "height": 777
        },
        "id": "mhUnmwOuHP0m",
        "outputId": "156240f6-d722-4b84-84e5-0dde7a96e8d3"
      },
      "execution_count": null,
      "outputs": [
        {
          "output_type": "stream",
          "name": "stdout",
          "text": [
            ">1, train: 0.673, test: 0.696\n",
            ">2, train: 0.728, test: 0.732\n",
            ">3, train: 0.780, test: 0.770\n",
            ">4, train: 0.831, test: 0.820\n",
            ">5, train: 0.879, test: 0.871\n",
            ">6, train: 0.918, test: 0.927\n",
            ">7, train: 0.940, test: 0.959\n",
            ">8, train: 0.967, test: 0.965\n",
            ">9, train: 0.985, test: 0.987\n",
            ">10, train: 0.996, test: 0.990\n",
            ">11, train: 0.996, test: 0.995\n",
            ">12, train: 0.997, test: 0.982\n",
            ">13, train: 0.999, test: 0.992\n",
            ">14, train: 0.999, test: 0.985\n",
            ">15, train: 1.000, test: 0.985\n",
            ">16, train: 1.000, test: 0.990\n",
            ">17, train: 1.000, test: 0.980\n",
            ">18, train: 1.000, test: 0.990\n",
            ">19, train: 1.000, test: 0.987\n",
            ">20, train: 1.000, test: 0.987\n"
          ]
        },
        {
          "output_type": "display_data",
          "data": {
            "text/plain": [
              "<Figure size 640x480 with 1 Axes>"
            ],
            "image/png": "[encoded data removed]"
          },
          "metadata": {}
        }
      ]
    },
    {
      "cell_type": "markdown",
      "source": [
        "# Testing"
      ],
      "metadata": {
        "id": "ic6g-piJOanp"
      }
    },
    {
      "cell_type": "code",
      "source": [
        "df.iloc[2]['text']\n"
      ],
      "metadata": {
        "colab": {
          "base_uri": "https://localhost:8080/",
          "height": 122
        },
        "id": "i9_qmvXgHdDn",
        "outputId": "ff154ca4-7611-43bc-c7dd-88e85abdb8a8"
      },
      "execution_count": null,
      "outputs": [
        {
          "output_type": "execute_result",
          "data": {
            "text/plain": [
              "'red state fox news sunday reported morning anthony weiner cooperating fbi reopened yes lefties reopened investigation hillary clintons classified emails watch chris wallace reports breaking news panel segment near end show news breaking air colleague bret baier sent us email saying two sources say anthony weiner also coownership laptop estranged wife huma abedin cooperating fbi investigation given laptop therefore didnt need warrant get see contents said laptop pretty interesting development targets federal investigations often cooperate hoping get consideration judge sentencing given weiners wellknown penchant lying hard believe prosecutor would give weiner deal based agreement testify unless testimony strongly corroborated hard evidence cooperation take many forms wallace indicated mornings show one forms could signing consent form allow contents devices could probably get warrant anyway well see weiners cooperation extends beyond related'"
            ],
            "application/vnd.google.colaboratory.intrinsic+json": {
              "type": "string"
            }
          },
          "metadata": {},
          "execution_count": 42
        }
      ]
    },
    {
      "cell_type": "code",
      "source": [
        "def predict_fake_news(news_article):\n",
        "    # Vectorize the user input using the previously fitted TF-IDF vectorizer\n",
        "    vectorized_input = vectorizer.transform([news_article])\n",
        "    # Use the trained Naive Bayes classifier to predict\n",
        "    prediction = nb_classifier.predict(vectorized_input)\n",
        "    # Convert the prediction back to a label\n",
        "    return 'Real' if prediction[0] == 1 else 'Fake'\n",
        "\n",
        "# Example usage\n",
        "author_input = input(\"Enter a news article's author: \")\n",
        "text_input = input(\"Enter a news article's text: \")\n",
        "user_input = \" \".join([author_input, text_input])\n",
        "prediction = predict_fake_news(user_input)\n",
        "print(f\"The predicted classification is: {prediction}\")"
      ],
      "metadata": {
        "colab": {
          "base_uri": "https://localhost:8080/"
        },
        "id": "fiaakFkPL-oy",
        "outputId": "8c64ad9f-405f-42f0-ed2b-78cd1af36428"
      },
      "execution_count": null,
      "outputs": [
        {
          "output_type": "stream",
          "name": "stdout",
          "text": [
            "Enter a news article's author: Barracuda Brigade\n",
            "Enter a news article's text: red state fox news sunday reported morning anthony weiner cooperating fbi reopened yes lefties reopened investigation hillary clintons classified emails watch chris wallace reports breaking news panel segment near end show news breaking air colleague bret baier sent us email saying two sources say anthony weiner also coownership laptop estranged wife huma abedin cooperating fbi investigation given laptop therefore didnt need warrant get see contents said laptop pretty interesting development targets federal investigations often cooperate hoping get consideration judge sentencing given weiners wellknown penchant lying hard believe prosecutor would give weiner deal based agreement testify unless testimony strongly corroborated hard evidence cooperation take many forms wallace indicated mornings show one forms could signing consent form allow contents devices could probably get warrant anyway well see weiners cooperation extends beyond related\n",
            "The predicted classification is: Real\n"
          ]
        }
      ]
    }
  ]
}